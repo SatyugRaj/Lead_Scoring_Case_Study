{
 "cells": [
  {
   "cell_type": "markdown",
   "id": "24e5dc3c",
   "metadata": {},
   "source": [
    "## LEAD SCORING CASE STUDY"
   ]
  },
  {
   "cell_type": "markdown",
   "id": "f94d3ba5",
   "metadata": {},
   "source": [
    "-- Lead conversion rate is 30 %\n",
    "-- Identifiy most potential Leads i.e people who are more chances to enroll \"HOT LEADS\"\n",
    "-- This will increase the conversioon rate as call will be made to only those HOT LEADS instead of calling everybody.\n",
    "-- Assign a lead score to each of the leads such that the customers with higher lead score have a higher conversion chance\n",
    "and the customers with lower lead score have a lower conversion chance.\n",
    "-- Lead conversion target should be around 80 %"
   ]
  },
  {
   "cell_type": "markdown",
   "id": "e8febb89",
   "metadata": {},
   "source": [
    " "
   ]
  },
  {
   "cell_type": "code",
   "execution_count": 1,
   "id": "f7ecaef0",
   "metadata": {},
   "outputs": [],
   "source": [
    "import warnings\n",
    "\n",
    "import matplotlib.pyplot as plt\n",
    "import numpy as np\n",
    "import pandas as pd\n",
    "import seaborn as sns\n",
    "\n",
    "warnings.filterwarnings('ignore')\n",
    "\n",
    "from sklearn.preprocessing import StandardScaler"
   ]
  },
  {
   "cell_type": "markdown",
   "id": "423f3077",
   "metadata": {},
   "source": [
    "Imported Necessary Libraries"
   ]
  },
  {
   "cell_type": "code",
   "execution_count": null,
   "id": "255c4306",
   "metadata": {},
   "outputs": [],
   "source": []
  },
  {
   "cell_type": "markdown",
   "id": "5fbaaa9a",
   "metadata": {},
   "source": [
    " Loading and Reading the data"
   ]
  },
  {
   "cell_type": "code",
   "execution_count": 2,
   "id": "27e0f71d",
   "metadata": {},
   "outputs": [
    {
     "data": {
      "text/html": [
       "<div>\n",
       "<style scoped>\n",
       "    .dataframe tbody tr th:only-of-type {\n",
       "        vertical-align: middle;\n",
       "    }\n",
       "\n",
       "    .dataframe tbody tr th {\n",
       "        vertical-align: top;\n",
       "    }\n",
       "\n",
       "    .dataframe thead th {\n",
       "        text-align: right;\n",
       "    }\n",
       "</style>\n",
       "<table border=\"1\" class=\"dataframe\">\n",
       "  <thead>\n",
       "    <tr style=\"text-align: right;\">\n",
       "      <th></th>\n",
       "      <th>Prospect ID</th>\n",
       "      <th>Lead Number</th>\n",
       "      <th>Lead Origin</th>\n",
       "      <th>Lead Source</th>\n",
       "      <th>Do Not Email</th>\n",
       "      <th>Do Not Call</th>\n",
       "      <th>Converted</th>\n",
       "      <th>TotalVisits</th>\n",
       "      <th>Total Time Spent on Website</th>\n",
       "      <th>Page Views Per Visit</th>\n",
       "      <th>...</th>\n",
       "      <th>Get updates on DM Content</th>\n",
       "      <th>Lead Profile</th>\n",
       "      <th>City</th>\n",
       "      <th>Asymmetrique Activity Index</th>\n",
       "      <th>Asymmetrique Profile Index</th>\n",
       "      <th>Asymmetrique Activity Score</th>\n",
       "      <th>Asymmetrique Profile Score</th>\n",
       "      <th>I agree to pay the amount through cheque</th>\n",
       "      <th>A free copy of Mastering The Interview</th>\n",
       "      <th>Last Notable Activity</th>\n",
       "    </tr>\n",
       "  </thead>\n",
       "  <tbody>\n",
       "    <tr>\n",
       "      <th>0</th>\n",
       "      <td>7927b2df-8bba-4d29-b9a2-b6e0beafe620</td>\n",
       "      <td>660737</td>\n",
       "      <td>API</td>\n",
       "      <td>Olark Chat</td>\n",
       "      <td>No</td>\n",
       "      <td>No</td>\n",
       "      <td>0</td>\n",
       "      <td>0.0</td>\n",
       "      <td>0</td>\n",
       "      <td>0.0</td>\n",
       "      <td>...</td>\n",
       "      <td>No</td>\n",
       "      <td>Select</td>\n",
       "      <td>Select</td>\n",
       "      <td>02.Medium</td>\n",
       "      <td>02.Medium</td>\n",
       "      <td>15.0</td>\n",
       "      <td>15.0</td>\n",
       "      <td>No</td>\n",
       "      <td>No</td>\n",
       "      <td>Modified</td>\n",
       "    </tr>\n",
       "    <tr>\n",
       "      <th>1</th>\n",
       "      <td>2a272436-5132-4136-86fa-dcc88c88f482</td>\n",
       "      <td>660728</td>\n",
       "      <td>API</td>\n",
       "      <td>Organic Search</td>\n",
       "      <td>No</td>\n",
       "      <td>No</td>\n",
       "      <td>0</td>\n",
       "      <td>5.0</td>\n",
       "      <td>674</td>\n",
       "      <td>2.5</td>\n",
       "      <td>...</td>\n",
       "      <td>No</td>\n",
       "      <td>Select</td>\n",
       "      <td>Select</td>\n",
       "      <td>02.Medium</td>\n",
       "      <td>02.Medium</td>\n",
       "      <td>15.0</td>\n",
       "      <td>15.0</td>\n",
       "      <td>No</td>\n",
       "      <td>No</td>\n",
       "      <td>Email Opened</td>\n",
       "    </tr>\n",
       "    <tr>\n",
       "      <th>2</th>\n",
       "      <td>8cc8c611-a219-4f35-ad23-fdfd2656bd8a</td>\n",
       "      <td>660727</td>\n",
       "      <td>Landing Page Submission</td>\n",
       "      <td>Direct Traffic</td>\n",
       "      <td>No</td>\n",
       "      <td>No</td>\n",
       "      <td>1</td>\n",
       "      <td>2.0</td>\n",
       "      <td>1532</td>\n",
       "      <td>2.0</td>\n",
       "      <td>...</td>\n",
       "      <td>No</td>\n",
       "      <td>Potential Lead</td>\n",
       "      <td>Mumbai</td>\n",
       "      <td>02.Medium</td>\n",
       "      <td>01.High</td>\n",
       "      <td>14.0</td>\n",
       "      <td>20.0</td>\n",
       "      <td>No</td>\n",
       "      <td>Yes</td>\n",
       "      <td>Email Opened</td>\n",
       "    </tr>\n",
       "    <tr>\n",
       "      <th>3</th>\n",
       "      <td>0cc2df48-7cf4-4e39-9de9-19797f9b38cc</td>\n",
       "      <td>660719</td>\n",
       "      <td>Landing Page Submission</td>\n",
       "      <td>Direct Traffic</td>\n",
       "      <td>No</td>\n",
       "      <td>No</td>\n",
       "      <td>0</td>\n",
       "      <td>1.0</td>\n",
       "      <td>305</td>\n",
       "      <td>1.0</td>\n",
       "      <td>...</td>\n",
       "      <td>No</td>\n",
       "      <td>Select</td>\n",
       "      <td>Mumbai</td>\n",
       "      <td>02.Medium</td>\n",
       "      <td>01.High</td>\n",
       "      <td>13.0</td>\n",
       "      <td>17.0</td>\n",
       "      <td>No</td>\n",
       "      <td>No</td>\n",
       "      <td>Modified</td>\n",
       "    </tr>\n",
       "    <tr>\n",
       "      <th>4</th>\n",
       "      <td>3256f628-e534-4826-9d63-4a8b88782852</td>\n",
       "      <td>660681</td>\n",
       "      <td>Landing Page Submission</td>\n",
       "      <td>Google</td>\n",
       "      <td>No</td>\n",
       "      <td>No</td>\n",
       "      <td>1</td>\n",
       "      <td>2.0</td>\n",
       "      <td>1428</td>\n",
       "      <td>1.0</td>\n",
       "      <td>...</td>\n",
       "      <td>No</td>\n",
       "      <td>Select</td>\n",
       "      <td>Mumbai</td>\n",
       "      <td>02.Medium</td>\n",
       "      <td>01.High</td>\n",
       "      <td>15.0</td>\n",
       "      <td>18.0</td>\n",
       "      <td>No</td>\n",
       "      <td>No</td>\n",
       "      <td>Modified</td>\n",
       "    </tr>\n",
       "  </tbody>\n",
       "</table>\n",
       "<p>5 rows × 37 columns</p>\n",
       "</div>"
      ],
      "text/plain": [
       "                            Prospect ID  Lead Number              Lead Origin  \\\n",
       "0  7927b2df-8bba-4d29-b9a2-b6e0beafe620       660737                      API   \n",
       "1  2a272436-5132-4136-86fa-dcc88c88f482       660728                      API   \n",
       "2  8cc8c611-a219-4f35-ad23-fdfd2656bd8a       660727  Landing Page Submission   \n",
       "3  0cc2df48-7cf4-4e39-9de9-19797f9b38cc       660719  Landing Page Submission   \n",
       "4  3256f628-e534-4826-9d63-4a8b88782852       660681  Landing Page Submission   \n",
       "\n",
       "      Lead Source Do Not Email Do Not Call  Converted  TotalVisits  \\\n",
       "0      Olark Chat           No          No          0          0.0   \n",
       "1  Organic Search           No          No          0          5.0   \n",
       "2  Direct Traffic           No          No          1          2.0   \n",
       "3  Direct Traffic           No          No          0          1.0   \n",
       "4          Google           No          No          1          2.0   \n",
       "\n",
       "   Total Time Spent on Website  Page Views Per Visit  ...  \\\n",
       "0                            0                   0.0  ...   \n",
       "1                          674                   2.5  ...   \n",
       "2                         1532                   2.0  ...   \n",
       "3                          305                   1.0  ...   \n",
       "4                         1428                   1.0  ...   \n",
       "\n",
       "  Get updates on DM Content    Lead Profile    City  \\\n",
       "0                        No          Select  Select   \n",
       "1                        No          Select  Select   \n",
       "2                        No  Potential Lead  Mumbai   \n",
       "3                        No          Select  Mumbai   \n",
       "4                        No          Select  Mumbai   \n",
       "\n",
       "  Asymmetrique Activity Index Asymmetrique Profile Index  \\\n",
       "0                   02.Medium                  02.Medium   \n",
       "1                   02.Medium                  02.Medium   \n",
       "2                   02.Medium                    01.High   \n",
       "3                   02.Medium                    01.High   \n",
       "4                   02.Medium                    01.High   \n",
       "\n",
       "  Asymmetrique Activity Score Asymmetrique Profile Score  \\\n",
       "0                        15.0                       15.0   \n",
       "1                        15.0                       15.0   \n",
       "2                        14.0                       20.0   \n",
       "3                        13.0                       17.0   \n",
       "4                        15.0                       18.0   \n",
       "\n",
       "  I agree to pay the amount through cheque  \\\n",
       "0                                       No   \n",
       "1                                       No   \n",
       "2                                       No   \n",
       "3                                       No   \n",
       "4                                       No   \n",
       "\n",
       "  A free copy of Mastering The Interview Last Notable Activity  \n",
       "0                                     No              Modified  \n",
       "1                                     No          Email Opened  \n",
       "2                                    Yes          Email Opened  \n",
       "3                                     No              Modified  \n",
       "4                                     No              Modified  \n",
       "\n",
       "[5 rows x 37 columns]"
      ]
     },
     "execution_count": 2,
     "metadata": {},
     "output_type": "execute_result"
    }
   ],
   "source": [
    "leads=pd.read_csv('Leads.csv')\n",
    "leads.head()"
   ]
  },
  {
   "cell_type": "code",
   "execution_count": 3,
   "id": "59fce571",
   "metadata": {},
   "outputs": [
    {
     "data": {
      "text/plain": [
       "(9240, 37)"
      ]
     },
     "execution_count": 3,
     "metadata": {},
     "output_type": "execute_result"
    }
   ],
   "source": [
    "leads.shape"
   ]
  },
  {
   "cell_type": "code",
   "execution_count": 4,
   "id": "6adf3b1b",
   "metadata": {},
   "outputs": [
    {
     "name": "stdout",
     "output_type": "stream",
     "text": [
      "<class 'pandas.core.frame.DataFrame'>\n",
      "RangeIndex: 9240 entries, 0 to 9239\n",
      "Data columns (total 37 columns):\n",
      " #   Column                                         Non-Null Count  Dtype  \n",
      "---  ------                                         --------------  -----  \n",
      " 0   Prospect ID                                    9240 non-null   object \n",
      " 1   Lead Number                                    9240 non-null   int64  \n",
      " 2   Lead Origin                                    9240 non-null   object \n",
      " 3   Lead Source                                    9204 non-null   object \n",
      " 4   Do Not Email                                   9240 non-null   object \n",
      " 5   Do Not Call                                    9240 non-null   object \n",
      " 6   Converted                                      9240 non-null   int64  \n",
      " 7   TotalVisits                                    9103 non-null   float64\n",
      " 8   Total Time Spent on Website                    9240 non-null   int64  \n",
      " 9   Page Views Per Visit                           9103 non-null   float64\n",
      " 10  Last Activity                                  9137 non-null   object \n",
      " 11  Country                                        6779 non-null   object \n",
      " 12  Specialization                                 7802 non-null   object \n",
      " 13  How did you hear about X Education             7033 non-null   object \n",
      " 14  What is your current occupation                6550 non-null   object \n",
      " 15  What matters most to you in choosing a course  6531 non-null   object \n",
      " 16  Search                                         9240 non-null   object \n",
      " 17  Magazine                                       9240 non-null   object \n",
      " 18  Newspaper Article                              9240 non-null   object \n",
      " 19  X Education Forums                             9240 non-null   object \n",
      " 20  Newspaper                                      9240 non-null   object \n",
      " 21  Digital Advertisement                          9240 non-null   object \n",
      " 22  Through Recommendations                        9240 non-null   object \n",
      " 23  Receive More Updates About Our Courses         9240 non-null   object \n",
      " 24  Tags                                           5887 non-null   object \n",
      " 25  Lead Quality                                   4473 non-null   object \n",
      " 26  Update me on Supply Chain Content              9240 non-null   object \n",
      " 27  Get updates on DM Content                      9240 non-null   object \n",
      " 28  Lead Profile                                   6531 non-null   object \n",
      " 29  City                                           7820 non-null   object \n",
      " 30  Asymmetrique Activity Index                    5022 non-null   object \n",
      " 31  Asymmetrique Profile Index                     5022 non-null   object \n",
      " 32  Asymmetrique Activity Score                    5022 non-null   float64\n",
      " 33  Asymmetrique Profile Score                     5022 non-null   float64\n",
      " 34  I agree to pay the amount through cheque       9240 non-null   object \n",
      " 35  A free copy of Mastering The Interview         9240 non-null   object \n",
      " 36  Last Notable Activity                          9240 non-null   object \n",
      "dtypes: float64(4), int64(3), object(30)\n",
      "memory usage: 2.6+ MB\n"
     ]
    }
   ],
   "source": [
    "leads.info()"
   ]
  },
  {
   "cell_type": "code",
   "execution_count": 5,
   "id": "73ca8277",
   "metadata": {},
   "outputs": [
    {
     "data": {
      "text/html": [
       "<div>\n",
       "<style scoped>\n",
       "    .dataframe tbody tr th:only-of-type {\n",
       "        vertical-align: middle;\n",
       "    }\n",
       "\n",
       "    .dataframe tbody tr th {\n",
       "        vertical-align: top;\n",
       "    }\n",
       "\n",
       "    .dataframe thead th {\n",
       "        text-align: right;\n",
       "    }\n",
       "</style>\n",
       "<table border=\"1\" class=\"dataframe\">\n",
       "  <thead>\n",
       "    <tr style=\"text-align: right;\">\n",
       "      <th></th>\n",
       "      <th>Lead Number</th>\n",
       "      <th>Converted</th>\n",
       "      <th>TotalVisits</th>\n",
       "      <th>Total Time Spent on Website</th>\n",
       "      <th>Page Views Per Visit</th>\n",
       "      <th>Asymmetrique Activity Score</th>\n",
       "      <th>Asymmetrique Profile Score</th>\n",
       "    </tr>\n",
       "  </thead>\n",
       "  <tbody>\n",
       "    <tr>\n",
       "      <th>count</th>\n",
       "      <td>9240.000000</td>\n",
       "      <td>9240.000000</td>\n",
       "      <td>9103.000000</td>\n",
       "      <td>9240.000000</td>\n",
       "      <td>9103.000000</td>\n",
       "      <td>5022.000000</td>\n",
       "      <td>5022.000000</td>\n",
       "    </tr>\n",
       "    <tr>\n",
       "      <th>mean</th>\n",
       "      <td>617188.435606</td>\n",
       "      <td>0.385390</td>\n",
       "      <td>3.445238</td>\n",
       "      <td>487.698268</td>\n",
       "      <td>2.362820</td>\n",
       "      <td>14.306252</td>\n",
       "      <td>16.344883</td>\n",
       "    </tr>\n",
       "    <tr>\n",
       "      <th>std</th>\n",
       "      <td>23405.995698</td>\n",
       "      <td>0.486714</td>\n",
       "      <td>4.854853</td>\n",
       "      <td>548.021466</td>\n",
       "      <td>2.161418</td>\n",
       "      <td>1.386694</td>\n",
       "      <td>1.811395</td>\n",
       "    </tr>\n",
       "    <tr>\n",
       "      <th>min</th>\n",
       "      <td>579533.000000</td>\n",
       "      <td>0.000000</td>\n",
       "      <td>0.000000</td>\n",
       "      <td>0.000000</td>\n",
       "      <td>0.000000</td>\n",
       "      <td>7.000000</td>\n",
       "      <td>11.000000</td>\n",
       "    </tr>\n",
       "    <tr>\n",
       "      <th>25%</th>\n",
       "      <td>596484.500000</td>\n",
       "      <td>0.000000</td>\n",
       "      <td>1.000000</td>\n",
       "      <td>12.000000</td>\n",
       "      <td>1.000000</td>\n",
       "      <td>14.000000</td>\n",
       "      <td>15.000000</td>\n",
       "    </tr>\n",
       "    <tr>\n",
       "      <th>50%</th>\n",
       "      <td>615479.000000</td>\n",
       "      <td>0.000000</td>\n",
       "      <td>3.000000</td>\n",
       "      <td>248.000000</td>\n",
       "      <td>2.000000</td>\n",
       "      <td>14.000000</td>\n",
       "      <td>16.000000</td>\n",
       "    </tr>\n",
       "    <tr>\n",
       "      <th>75%</th>\n",
       "      <td>637387.250000</td>\n",
       "      <td>1.000000</td>\n",
       "      <td>5.000000</td>\n",
       "      <td>936.000000</td>\n",
       "      <td>3.000000</td>\n",
       "      <td>15.000000</td>\n",
       "      <td>18.000000</td>\n",
       "    </tr>\n",
       "    <tr>\n",
       "      <th>max</th>\n",
       "      <td>660737.000000</td>\n",
       "      <td>1.000000</td>\n",
       "      <td>251.000000</td>\n",
       "      <td>2272.000000</td>\n",
       "      <td>55.000000</td>\n",
       "      <td>18.000000</td>\n",
       "      <td>20.000000</td>\n",
       "    </tr>\n",
       "  </tbody>\n",
       "</table>\n",
       "</div>"
      ],
      "text/plain": [
       "         Lead Number    Converted  TotalVisits  Total Time Spent on Website  \\\n",
       "count    9240.000000  9240.000000  9103.000000                  9240.000000   \n",
       "mean   617188.435606     0.385390     3.445238                   487.698268   \n",
       "std     23405.995698     0.486714     4.854853                   548.021466   \n",
       "min    579533.000000     0.000000     0.000000                     0.000000   \n",
       "25%    596484.500000     0.000000     1.000000                    12.000000   \n",
       "50%    615479.000000     0.000000     3.000000                   248.000000   \n",
       "75%    637387.250000     1.000000     5.000000                   936.000000   \n",
       "max    660737.000000     1.000000   251.000000                  2272.000000   \n",
       "\n",
       "       Page Views Per Visit  Asymmetrique Activity Score  \\\n",
       "count           9103.000000                  5022.000000   \n",
       "mean               2.362820                    14.306252   \n",
       "std                2.161418                     1.386694   \n",
       "min                0.000000                     7.000000   \n",
       "25%                1.000000                    14.000000   \n",
       "50%                2.000000                    14.000000   \n",
       "75%                3.000000                    15.000000   \n",
       "max               55.000000                    18.000000   \n",
       "\n",
       "       Asymmetrique Profile Score  \n",
       "count                 5022.000000  \n",
       "mean                    16.344883  \n",
       "std                      1.811395  \n",
       "min                     11.000000  \n",
       "25%                     15.000000  \n",
       "50%                     16.000000  \n",
       "75%                     18.000000  \n",
       "max                     20.000000  "
      ]
     },
     "execution_count": 5,
     "metadata": {},
     "output_type": "execute_result"
    }
   ],
   "source": [
    "# to see the Numeric values in the data\n",
    "\n",
    "leads.describe()"
   ]
  },
  {
   "cell_type": "code",
   "execution_count": null,
   "id": "a746b1f3",
   "metadata": {},
   "outputs": [],
   "source": []
  },
  {
   "cell_type": "code",
   "execution_count": null,
   "id": "26e5a3c6",
   "metadata": {},
   "outputs": [],
   "source": []
  },
  {
   "cell_type": "code",
   "execution_count": 6,
   "id": "f27d8162",
   "metadata": {},
   "outputs": [
    {
     "data": {
      "text/plain": [
       "0"
      ]
     },
     "execution_count": 6,
     "metadata": {},
     "output_type": "execute_result"
    }
   ],
   "source": [
    "# Checking for duplicate values in the Data Frame/ Data Set.\n",
    "\n",
    "leads.duplicated().sum()"
   ]
  },
  {
   "cell_type": "markdown",
   "id": "da6f0d46",
   "metadata": {},
   "source": [
    "As per understanding columns ProspectID and Lead number denotes the same thing i.e define a unique ID for all the customers that were contacted.\n",
    "Being an ID column both can be dropped as it will not provide much insight going forward."
   ]
  },
  {
   "cell_type": "markdown",
   "id": "20c370da",
   "metadata": {},
   "source": [
    "  "
   ]
  },
  {
   "cell_type": "markdown",
   "id": "9aa4aacc",
   "metadata": {},
   "source": [
    "### 1. Data cleaning and Preparation"
   ]
  },
  {
   "cell_type": "code",
   "execution_count": 7,
   "id": "182f9658",
   "metadata": {},
   "outputs": [],
   "source": [
    "# Replacing the Select values with nan as it is not an valid value.\n",
    "\n",
    "leads=leads.replace('Select',np.nan)"
   ]
  },
  {
   "cell_type": "code",
   "execution_count": 8,
   "id": "ff52a223",
   "metadata": {},
   "outputs": [],
   "source": [
    "# Dropping the ID columns i.e ProspectID and Lead Number.\n",
    "\n",
    "leads.drop(['Prospect ID', 'Lead Number'],axis=1,inplace=True)"
   ]
  },
  {
   "cell_type": "code",
   "execution_count": 9,
   "id": "be66e7be",
   "metadata": {},
   "outputs": [
    {
     "data": {
      "text/html": [
       "<div>\n",
       "<style scoped>\n",
       "    .dataframe tbody tr th:only-of-type {\n",
       "        vertical-align: middle;\n",
       "    }\n",
       "\n",
       "    .dataframe tbody tr th {\n",
       "        vertical-align: top;\n",
       "    }\n",
       "\n",
       "    .dataframe thead th {\n",
       "        text-align: right;\n",
       "    }\n",
       "</style>\n",
       "<table border=\"1\" class=\"dataframe\">\n",
       "  <thead>\n",
       "    <tr style=\"text-align: right;\">\n",
       "      <th></th>\n",
       "      <th>Lead Origin</th>\n",
       "      <th>Lead Source</th>\n",
       "      <th>Do Not Email</th>\n",
       "      <th>Do Not Call</th>\n",
       "      <th>Converted</th>\n",
       "      <th>TotalVisits</th>\n",
       "      <th>Total Time Spent on Website</th>\n",
       "      <th>Page Views Per Visit</th>\n",
       "      <th>Last Activity</th>\n",
       "      <th>Country</th>\n",
       "      <th>...</th>\n",
       "      <th>Get updates on DM Content</th>\n",
       "      <th>Lead Profile</th>\n",
       "      <th>City</th>\n",
       "      <th>Asymmetrique Activity Index</th>\n",
       "      <th>Asymmetrique Profile Index</th>\n",
       "      <th>Asymmetrique Activity Score</th>\n",
       "      <th>Asymmetrique Profile Score</th>\n",
       "      <th>I agree to pay the amount through cheque</th>\n",
       "      <th>A free copy of Mastering The Interview</th>\n",
       "      <th>Last Notable Activity</th>\n",
       "    </tr>\n",
       "  </thead>\n",
       "  <tbody>\n",
       "    <tr>\n",
       "      <th>0</th>\n",
       "      <td>API</td>\n",
       "      <td>Olark Chat</td>\n",
       "      <td>No</td>\n",
       "      <td>No</td>\n",
       "      <td>0</td>\n",
       "      <td>0.0</td>\n",
       "      <td>0</td>\n",
       "      <td>0.0</td>\n",
       "      <td>Page Visited on Website</td>\n",
       "      <td>NaN</td>\n",
       "      <td>...</td>\n",
       "      <td>No</td>\n",
       "      <td>NaN</td>\n",
       "      <td>NaN</td>\n",
       "      <td>02.Medium</td>\n",
       "      <td>02.Medium</td>\n",
       "      <td>15.0</td>\n",
       "      <td>15.0</td>\n",
       "      <td>No</td>\n",
       "      <td>No</td>\n",
       "      <td>Modified</td>\n",
       "    </tr>\n",
       "    <tr>\n",
       "      <th>1</th>\n",
       "      <td>API</td>\n",
       "      <td>Organic Search</td>\n",
       "      <td>No</td>\n",
       "      <td>No</td>\n",
       "      <td>0</td>\n",
       "      <td>5.0</td>\n",
       "      <td>674</td>\n",
       "      <td>2.5</td>\n",
       "      <td>Email Opened</td>\n",
       "      <td>India</td>\n",
       "      <td>...</td>\n",
       "      <td>No</td>\n",
       "      <td>NaN</td>\n",
       "      <td>NaN</td>\n",
       "      <td>02.Medium</td>\n",
       "      <td>02.Medium</td>\n",
       "      <td>15.0</td>\n",
       "      <td>15.0</td>\n",
       "      <td>No</td>\n",
       "      <td>No</td>\n",
       "      <td>Email Opened</td>\n",
       "    </tr>\n",
       "    <tr>\n",
       "      <th>2</th>\n",
       "      <td>Landing Page Submission</td>\n",
       "      <td>Direct Traffic</td>\n",
       "      <td>No</td>\n",
       "      <td>No</td>\n",
       "      <td>1</td>\n",
       "      <td>2.0</td>\n",
       "      <td>1532</td>\n",
       "      <td>2.0</td>\n",
       "      <td>Email Opened</td>\n",
       "      <td>India</td>\n",
       "      <td>...</td>\n",
       "      <td>No</td>\n",
       "      <td>Potential Lead</td>\n",
       "      <td>Mumbai</td>\n",
       "      <td>02.Medium</td>\n",
       "      <td>01.High</td>\n",
       "      <td>14.0</td>\n",
       "      <td>20.0</td>\n",
       "      <td>No</td>\n",
       "      <td>Yes</td>\n",
       "      <td>Email Opened</td>\n",
       "    </tr>\n",
       "    <tr>\n",
       "      <th>3</th>\n",
       "      <td>Landing Page Submission</td>\n",
       "      <td>Direct Traffic</td>\n",
       "      <td>No</td>\n",
       "      <td>No</td>\n",
       "      <td>0</td>\n",
       "      <td>1.0</td>\n",
       "      <td>305</td>\n",
       "      <td>1.0</td>\n",
       "      <td>Unreachable</td>\n",
       "      <td>India</td>\n",
       "      <td>...</td>\n",
       "      <td>No</td>\n",
       "      <td>NaN</td>\n",
       "      <td>Mumbai</td>\n",
       "      <td>02.Medium</td>\n",
       "      <td>01.High</td>\n",
       "      <td>13.0</td>\n",
       "      <td>17.0</td>\n",
       "      <td>No</td>\n",
       "      <td>No</td>\n",
       "      <td>Modified</td>\n",
       "    </tr>\n",
       "    <tr>\n",
       "      <th>4</th>\n",
       "      <td>Landing Page Submission</td>\n",
       "      <td>Google</td>\n",
       "      <td>No</td>\n",
       "      <td>No</td>\n",
       "      <td>1</td>\n",
       "      <td>2.0</td>\n",
       "      <td>1428</td>\n",
       "      <td>1.0</td>\n",
       "      <td>Converted to Lead</td>\n",
       "      <td>India</td>\n",
       "      <td>...</td>\n",
       "      <td>No</td>\n",
       "      <td>NaN</td>\n",
       "      <td>Mumbai</td>\n",
       "      <td>02.Medium</td>\n",
       "      <td>01.High</td>\n",
       "      <td>15.0</td>\n",
       "      <td>18.0</td>\n",
       "      <td>No</td>\n",
       "      <td>No</td>\n",
       "      <td>Modified</td>\n",
       "    </tr>\n",
       "  </tbody>\n",
       "</table>\n",
       "<p>5 rows × 35 columns</p>\n",
       "</div>"
      ],
      "text/plain": [
       "               Lead Origin     Lead Source Do Not Email Do Not Call  \\\n",
       "0                      API      Olark Chat           No          No   \n",
       "1                      API  Organic Search           No          No   \n",
       "2  Landing Page Submission  Direct Traffic           No          No   \n",
       "3  Landing Page Submission  Direct Traffic           No          No   \n",
       "4  Landing Page Submission          Google           No          No   \n",
       "\n",
       "   Converted  TotalVisits  Total Time Spent on Website  Page Views Per Visit  \\\n",
       "0          0          0.0                            0                   0.0   \n",
       "1          0          5.0                          674                   2.5   \n",
       "2          1          2.0                         1532                   2.0   \n",
       "3          0          1.0                          305                   1.0   \n",
       "4          1          2.0                         1428                   1.0   \n",
       "\n",
       "             Last Activity Country  ... Get updates on DM Content  \\\n",
       "0  Page Visited on Website     NaN  ...                        No   \n",
       "1             Email Opened   India  ...                        No   \n",
       "2             Email Opened   India  ...                        No   \n",
       "3              Unreachable   India  ...                        No   \n",
       "4        Converted to Lead   India  ...                        No   \n",
       "\n",
       "     Lead Profile    City Asymmetrique Activity Index  \\\n",
       "0             NaN     NaN                   02.Medium   \n",
       "1             NaN     NaN                   02.Medium   \n",
       "2  Potential Lead  Mumbai                   02.Medium   \n",
       "3             NaN  Mumbai                   02.Medium   \n",
       "4             NaN  Mumbai                   02.Medium   \n",
       "\n",
       "  Asymmetrique Profile Index Asymmetrique Activity Score  \\\n",
       "0                  02.Medium                        15.0   \n",
       "1                  02.Medium                        15.0   \n",
       "2                    01.High                        14.0   \n",
       "3                    01.High                        13.0   \n",
       "4                    01.High                        15.0   \n",
       "\n",
       "  Asymmetrique Profile Score I agree to pay the amount through cheque  \\\n",
       "0                       15.0                                       No   \n",
       "1                       15.0                                       No   \n",
       "2                       20.0                                       No   \n",
       "3                       17.0                                       No   \n",
       "4                       18.0                                       No   \n",
       "\n",
       "  A free copy of Mastering The Interview Last Notable Activity  \n",
       "0                                     No              Modified  \n",
       "1                                     No          Email Opened  \n",
       "2                                    Yes          Email Opened  \n",
       "3                                     No              Modified  \n",
       "4                                     No              Modified  \n",
       "\n",
       "[5 rows x 35 columns]"
      ]
     },
     "execution_count": 9,
     "metadata": {},
     "output_type": "execute_result"
    }
   ],
   "source": [
    "leads.head()"
   ]
  },
  {
   "cell_type": "code",
   "execution_count": 10,
   "id": "b61964b2",
   "metadata": {},
   "outputs": [
    {
     "data": {
      "text/plain": [
       "Lead Origin                                       0.00\n",
       "Lead Source                                       0.39\n",
       "Do Not Email                                      0.00\n",
       "Do Not Call                                       0.00\n",
       "Converted                                         0.00\n",
       "TotalVisits                                       1.48\n",
       "Total Time Spent on Website                       0.00\n",
       "Page Views Per Visit                              1.48\n",
       "Last Activity                                     1.11\n",
       "Country                                          26.63\n",
       "Specialization                                   36.58\n",
       "How did you hear about X Education               78.46\n",
       "What is your current occupation                  29.11\n",
       "What matters most to you in choosing a course    29.32\n",
       "Search                                            0.00\n",
       "Magazine                                          0.00\n",
       "Newspaper Article                                 0.00\n",
       "X Education Forums                                0.00\n",
       "Newspaper                                         0.00\n",
       "Digital Advertisement                             0.00\n",
       "Through Recommendations                           0.00\n",
       "Receive More Updates About Our Courses            0.00\n",
       "Tags                                             36.29\n",
       "Lead Quality                                     51.59\n",
       "Update me on Supply Chain Content                 0.00\n",
       "Get updates on DM Content                         0.00\n",
       "Lead Profile                                     74.19\n",
       "City                                             39.71\n",
       "Asymmetrique Activity Index                      45.65\n",
       "Asymmetrique Profile Index                       45.65\n",
       "Asymmetrique Activity Score                      45.65\n",
       "Asymmetrique Profile Score                       45.65\n",
       "I agree to pay the amount through cheque          0.00\n",
       "A free copy of Mastering The Interview            0.00\n",
       "Last Notable Activity                             0.00\n",
       "dtype: float64"
      ]
     },
     "execution_count": 10,
     "metadata": {},
     "output_type": "execute_result"
    }
   ],
   "source": [
    "#Checking percentage of NULL values.\n",
    "\n",
    "def perc_null(x):\n",
    "    return round(100*(x.isnull().sum()/len(x.index)), 2)\n",
    "    \n",
    "\n",
    "(perc_null(leads))"
   ]
  },
  {
   "cell_type": "code",
   "execution_count": 11,
   "id": "6504c33a",
   "metadata": {},
   "outputs": [],
   "source": [
    "# Dropping columns with more than 40% NULL values\n",
    "\n",
    "drop_cols=leads.columns\n",
    "\n",
    "for i in drop_cols:\n",
    "    if((100*(leads[i].isnull().sum()/len(leads.index))) >= 40):\n",
    "        leads.drop(i, axis=1, inplace = True)"
   ]
  },
  {
   "cell_type": "code",
   "execution_count": 12,
   "id": "1edc90cc",
   "metadata": {
    "scrolled": true
   },
   "outputs": [
    {
     "data": {
      "text/plain": [
       "Lead Origin                                       0.00\n",
       "Lead Source                                       0.39\n",
       "Do Not Email                                      0.00\n",
       "Do Not Call                                       0.00\n",
       "Converted                                         0.00\n",
       "TotalVisits                                       1.48\n",
       "Total Time Spent on Website                       0.00\n",
       "Page Views Per Visit                              1.48\n",
       "Last Activity                                     1.11\n",
       "Country                                          26.63\n",
       "Specialization                                   36.58\n",
       "What is your current occupation                  29.11\n",
       "What matters most to you in choosing a course    29.32\n",
       "Search                                            0.00\n",
       "Magazine                                          0.00\n",
       "Newspaper Article                                 0.00\n",
       "X Education Forums                                0.00\n",
       "Newspaper                                         0.00\n",
       "Digital Advertisement                             0.00\n",
       "Through Recommendations                           0.00\n",
       "Receive More Updates About Our Courses            0.00\n",
       "Tags                                             36.29\n",
       "Update me on Supply Chain Content                 0.00\n",
       "Get updates on DM Content                         0.00\n",
       "City                                             39.71\n",
       "I agree to pay the amount through cheque          0.00\n",
       "A free copy of Mastering The Interview            0.00\n",
       "Last Notable Activity                             0.00\n",
       "dtype: float64"
      ]
     },
     "execution_count": 12,
     "metadata": {},
     "output_type": "execute_result"
    }
   ],
   "source": [
    "# again checking the percentage of NULLS\n",
    "\n",
    "perc_null(leads)"
   ]
  },
  {
   "cell_type": "markdown",
   "id": "95ba1aee",
   "metadata": {},
   "source": [
    "Here we can see still there are some columns that have high % of missing values, but again we cannot conclude and remove all those also, because we may loose a lot of data and it will affect our resulting model.\n",
    "If the need arises we will drop these columns in future steps."
   ]
  },
  {
   "cell_type": "markdown",
   "id": "ad42c123",
   "metadata": {},
   "source": [
    "  "
   ]
  },
  {
   "cell_type": "markdown",
   "id": "0f973437",
   "metadata": {},
   "source": [
    " "
   ]
  },
  {
   "cell_type": "code",
   "execution_count": 13,
   "id": "7dfe0ecb",
   "metadata": {
    "scrolled": true
   },
   "outputs": [
    {
     "data": {
      "text/plain": [
       "India                   70.259740\n",
       "NaN                     26.634199\n",
       "United States            0.746753\n",
       "United Arab Emirates     0.573593\n",
       "Singapore                0.259740\n",
       "Saudi Arabia             0.227273\n",
       "United Kingdom           0.162338\n",
       "Australia                0.140693\n",
       "Qatar                    0.108225\n",
       "Bahrain                  0.075758\n",
       "Hong Kong                0.075758\n",
       "Oman                     0.064935\n",
       "France                   0.064935\n",
       "unknown                  0.054113\n",
       "Kuwait                   0.043290\n",
       "South Africa             0.043290\n",
       "Canada                   0.043290\n",
       "Nigeria                  0.043290\n",
       "Germany                  0.043290\n",
       "Sweden                   0.032468\n",
       "Philippines              0.021645\n",
       "Uganda                   0.021645\n",
       "Italy                    0.021645\n",
       "Bangladesh               0.021645\n",
       "Netherlands              0.021645\n",
       "Asia/Pacific Region      0.021645\n",
       "China                    0.021645\n",
       "Belgium                  0.021645\n",
       "Ghana                    0.021645\n",
       "Kenya                    0.010823\n",
       "Sri Lanka                0.010823\n",
       "Tanzania                 0.010823\n",
       "Malaysia                 0.010823\n",
       "Liberia                  0.010823\n",
       "Switzerland              0.010823\n",
       "Denmark                  0.010823\n",
       "Russia                   0.010823\n",
       "Vietnam                  0.010823\n",
       "Indonesia                0.010823\n",
       "Name: Country, dtype: float64"
      ]
     },
     "execution_count": 13,
     "metadata": {},
     "output_type": "execute_result"
    }
   ],
   "source": [
    "leads['Country'].value_counts(dropna=False,normalize=True)*100"
   ]
  },
  {
   "cell_type": "markdown",
   "id": "3bfeedbe",
   "metadata": {},
   "source": [
    "Here clearly India is the most common value present. We create categories by which we can impute the null values too."
   ]
  },
  {
   "cell_type": "code",
   "execution_count": 14,
   "id": "0128a0fc",
   "metadata": {},
   "outputs": [],
   "source": [
    "leads['Country'] = leads['Country'].fillna('Not Mentioned')"
   ]
  },
  {
   "cell_type": "code",
   "execution_count": 15,
   "id": "a0bf12a7",
   "metadata": {},
   "outputs": [
    {
     "data": {
      "text/plain": [
       "India            6492\n",
       "Not Mentioned    2461\n",
       "Outside India     287\n",
       "Name: Country, dtype: int64"
      ]
     },
     "execution_count": 15,
     "metadata": {},
     "output_type": "execute_result"
    }
   ],
   "source": [
    "# we Create sepearte category to club all the other low frequency values, this will help in DUMMY creation step further.\n",
    "\n",
    "def categories(x):\n",
    "    category = \"\"\n",
    "    if x == \"India\":\n",
    "        category = \"India\"\n",
    "    elif x == \"Not Mentioned\":\n",
    "        category = \"Not Mentioned\"\n",
    "    else:\n",
    "        category = \"Outside India\"\n",
    "    return category\n",
    "\n",
    "leads['Country'] = leads.apply(lambda x:categories(x['Country']), axis = 1)\n",
    "leads['Country'].value_counts()"
   ]
  },
  {
   "cell_type": "code",
   "execution_count": 16,
   "id": "422ff2d7",
   "metadata": {
    "scrolled": true
   },
   "outputs": [
    {
     "data": {
      "text/plain": [
       "Lead Origin                                       0.00\n",
       "Lead Source                                       0.39\n",
       "Do Not Email                                      0.00\n",
       "Do Not Call                                       0.00\n",
       "Converted                                         0.00\n",
       "TotalVisits                                       1.48\n",
       "Total Time Spent on Website                       0.00\n",
       "Page Views Per Visit                              1.48\n",
       "Last Activity                                     1.11\n",
       "Country                                           0.00\n",
       "Specialization                                   36.58\n",
       "What is your current occupation                  29.11\n",
       "What matters most to you in choosing a course    29.32\n",
       "Search                                            0.00\n",
       "Magazine                                          0.00\n",
       "Newspaper Article                                 0.00\n",
       "X Education Forums                                0.00\n",
       "Newspaper                                         0.00\n",
       "Digital Advertisement                             0.00\n",
       "Through Recommendations                           0.00\n",
       "Receive More Updates About Our Courses            0.00\n",
       "Tags                                             36.29\n",
       "Update me on Supply Chain Content                 0.00\n",
       "Get updates on DM Content                         0.00\n",
       "City                                             39.71\n",
       "I agree to pay the amount through cheque          0.00\n",
       "A free copy of Mastering The Interview            0.00\n",
       "Last Notable Activity                             0.00\n",
       "dtype: float64"
      ]
     },
     "execution_count": 16,
     "metadata": {},
     "output_type": "execute_result"
    }
   ],
   "source": [
    "perc_null(leads)"
   ]
  },
  {
   "cell_type": "markdown",
   "id": "617f5415",
   "metadata": {},
   "source": [
    "  ***************************************"
   ]
  },
  {
   "cell_type": "code",
   "execution_count": 17,
   "id": "502e63f5",
   "metadata": {
    "scrolled": false
   },
   "outputs": [
    {
     "data": {
      "text/plain": [
       "NaN                                  36.580087\n",
       "Finance Management                   10.562771\n",
       "Human Resource Management             9.177489\n",
       "Marketing Management                  9.069264\n",
       "Operations Management                 5.443723\n",
       "Business Administration               4.361472\n",
       "IT Projects Management                3.961039\n",
       "Supply Chain Management               3.777056\n",
       "Banking, Investment And Insurance     3.658009\n",
       "Travel and Tourism                    2.196970\n",
       "Media and Advertising                 2.196970\n",
       "International Business                1.926407\n",
       "Healthcare Management                 1.720779\n",
       "Hospitality Management                1.233766\n",
       "E-COMMERCE                            1.212121\n",
       "Retail Management                     1.082251\n",
       "Rural and Agribusiness                0.790043\n",
       "E-Business                            0.616883\n",
       "Services Excellence                   0.432900\n",
       "Name: Specialization, dtype: float64"
      ]
     },
     "execution_count": 17,
     "metadata": {},
     "output_type": "execute_result"
    }
   ],
   "source": [
    "leads['Specialization'].value_counts(dropna=False,normalize=True)*100 # For this we cannot clearly say which is the most leading value as all the categories have some good number values.."
   ]
  },
  {
   "cell_type": "code",
   "execution_count": 18,
   "id": "2b9e04d1",
   "metadata": {},
   "outputs": [],
   "source": [
    "# We impute the missing values/Null values with 'Not Mentioned'\n",
    "\n",
    "leads['Specialization'] = leads['Specialization'].fillna('Not Mentioned') "
   ]
  },
  {
   "cell_type": "code",
   "execution_count": 19,
   "id": "c405b783",
   "metadata": {
    "scrolled": true
   },
   "outputs": [
    {
     "data": {
      "text/plain": [
       "Lead Origin                                       0.00\n",
       "Lead Source                                       0.39\n",
       "Do Not Email                                      0.00\n",
       "Do Not Call                                       0.00\n",
       "Converted                                         0.00\n",
       "TotalVisits                                       1.48\n",
       "Total Time Spent on Website                       0.00\n",
       "Page Views Per Visit                              1.48\n",
       "Last Activity                                     1.11\n",
       "Country                                           0.00\n",
       "Specialization                                    0.00\n",
       "What is your current occupation                  29.11\n",
       "What matters most to you in choosing a course    29.32\n",
       "Search                                            0.00\n",
       "Magazine                                          0.00\n",
       "Newspaper Article                                 0.00\n",
       "X Education Forums                                0.00\n",
       "Newspaper                                         0.00\n",
       "Digital Advertisement                             0.00\n",
       "Through Recommendations                           0.00\n",
       "Receive More Updates About Our Courses            0.00\n",
       "Tags                                             36.29\n",
       "Update me on Supply Chain Content                 0.00\n",
       "Get updates on DM Content                         0.00\n",
       "City                                             39.71\n",
       "I agree to pay the amount through cheque          0.00\n",
       "A free copy of Mastering The Interview            0.00\n",
       "Last Notable Activity                             0.00\n",
       "dtype: float64"
      ]
     },
     "execution_count": 19,
     "metadata": {},
     "output_type": "execute_result"
    }
   ],
   "source": [
    "perc_null(leads)"
   ]
  },
  {
   "cell_type": "markdown",
   "id": "91f97576",
   "metadata": {},
   "source": [
    "    *******************************************************************************************************************"
   ]
  },
  {
   "cell_type": "code",
   "execution_count": 20,
   "id": "f94ec6b8",
   "metadata": {},
   "outputs": [
    {
     "data": {
      "text/plain": [
       "Unemployed              60.606061\n",
       "NaN                     29.112554\n",
       "Working Professional     7.640693\n",
       "Student                  2.272727\n",
       "Other                    0.173160\n",
       "Housewife                0.108225\n",
       "Businessman              0.086580\n",
       "Name: What is your current occupation, dtype: float64"
      ]
     },
     "execution_count": 20,
     "metadata": {},
     "output_type": "execute_result"
    }
   ],
   "source": [
    "leads['What is your current occupation'].value_counts(dropna=False,normalize=True)*100 # Here \"Unemployed\" is clearly the most common value"
   ]
  },
  {
   "cell_type": "code",
   "execution_count": 21,
   "id": "5f1e6d29",
   "metadata": {},
   "outputs": [],
   "source": [
    "# imputing the missing values with \"Unemployed\"\n",
    "\n",
    "leads['What is your current occupation'] = leads['What is your current occupation'].fillna('Unemployed')"
   ]
  },
  {
   "cell_type": "code",
   "execution_count": 22,
   "id": "a3d388ce",
   "metadata": {
    "scrolled": true
   },
   "outputs": [
    {
     "data": {
      "text/plain": [
       "Lead Origin                                       0.00\n",
       "Lead Source                                       0.39\n",
       "Do Not Email                                      0.00\n",
       "Do Not Call                                       0.00\n",
       "Converted                                         0.00\n",
       "TotalVisits                                       1.48\n",
       "Total Time Spent on Website                       0.00\n",
       "Page Views Per Visit                              1.48\n",
       "Last Activity                                     1.11\n",
       "Country                                           0.00\n",
       "Specialization                                    0.00\n",
       "What is your current occupation                   0.00\n",
       "What matters most to you in choosing a course    29.32\n",
       "Search                                            0.00\n",
       "Magazine                                          0.00\n",
       "Newspaper Article                                 0.00\n",
       "X Education Forums                                0.00\n",
       "Newspaper                                         0.00\n",
       "Digital Advertisement                             0.00\n",
       "Through Recommendations                           0.00\n",
       "Receive More Updates About Our Courses            0.00\n",
       "Tags                                             36.29\n",
       "Update me on Supply Chain Content                 0.00\n",
       "Get updates on DM Content                         0.00\n",
       "City                                             39.71\n",
       "I agree to pay the amount through cheque          0.00\n",
       "A free copy of Mastering The Interview            0.00\n",
       "Last Notable Activity                             0.00\n",
       "dtype: float64"
      ]
     },
     "execution_count": 22,
     "metadata": {},
     "output_type": "execute_result"
    }
   ],
   "source": [
    "perc_null(leads)"
   ]
  },
  {
   "cell_type": "markdown",
   "id": "f058df84",
   "metadata": {},
   "source": [
    "    *******************************************************************************************************************"
   ]
  },
  {
   "cell_type": "code",
   "execution_count": 23,
   "id": "7c187a12",
   "metadata": {
    "scrolled": true
   },
   "outputs": [
    {
     "data": {
      "text/plain": [
       "Better Career Prospects      70.649351\n",
       "NaN                          29.318182\n",
       "Flexibility & Convenience     0.021645\n",
       "Other                         0.010823\n",
       "Name: What matters most to you in choosing a course, dtype: float64"
      ]
     },
     "execution_count": 23,
     "metadata": {},
     "output_type": "execute_result"
    }
   ],
   "source": [
    "leads['What matters most to you in choosing a course'].value_counts(dropna=False,normalize=True)*100 \n",
    "\n",
    "#Clearly there is one value most common among all with 70 %."
   ]
  },
  {
   "cell_type": "code",
   "execution_count": 24,
   "id": "42bbf47a",
   "metadata": {},
   "outputs": [],
   "source": [
    "# imputing the nulls with \"Better Career Prospects\"\n",
    "\n",
    "leads['What matters most to you in choosing a course'] = leads['What matters most to you in choosing a course'].fillna('Better Career Prospects')"
   ]
  },
  {
   "cell_type": "code",
   "execution_count": 25,
   "id": "7321f613",
   "metadata": {
    "scrolled": true
   },
   "outputs": [
    {
     "data": {
      "text/plain": [
       "Lead Origin                                       0.00\n",
       "Lead Source                                       0.39\n",
       "Do Not Email                                      0.00\n",
       "Do Not Call                                       0.00\n",
       "Converted                                         0.00\n",
       "TotalVisits                                       1.48\n",
       "Total Time Spent on Website                       0.00\n",
       "Page Views Per Visit                              1.48\n",
       "Last Activity                                     1.11\n",
       "Country                                           0.00\n",
       "Specialization                                    0.00\n",
       "What is your current occupation                   0.00\n",
       "What matters most to you in choosing a course     0.00\n",
       "Search                                            0.00\n",
       "Magazine                                          0.00\n",
       "Newspaper Article                                 0.00\n",
       "X Education Forums                                0.00\n",
       "Newspaper                                         0.00\n",
       "Digital Advertisement                             0.00\n",
       "Through Recommendations                           0.00\n",
       "Receive More Updates About Our Courses            0.00\n",
       "Tags                                             36.29\n",
       "Update me on Supply Chain Content                 0.00\n",
       "Get updates on DM Content                         0.00\n",
       "City                                             39.71\n",
       "I agree to pay the amount through cheque          0.00\n",
       "A free copy of Mastering The Interview            0.00\n",
       "Last Notable Activity                             0.00\n",
       "dtype: float64"
      ]
     },
     "execution_count": 25,
     "metadata": {},
     "output_type": "execute_result"
    }
   ],
   "source": [
    "perc_null(leads)"
   ]
  },
  {
   "cell_type": "markdown",
   "id": "2a611fd1",
   "metadata": {},
   "source": [
    "    *******************************************************************************************************************"
   ]
  },
  {
   "cell_type": "code",
   "execution_count": 26,
   "id": "821d08e0",
   "metadata": {
    "scrolled": true
   },
   "outputs": [
    {
     "data": {
      "text/plain": [
       "NaN                                                  36.287879\n",
       "Will revert after reading the email                  22.424242\n",
       "Ringing                                              13.019481\n",
       "Interested in other courses                           5.551948\n",
       "Already a student                                     5.032468\n",
       "Closed by Horizzon                                    3.874459\n",
       "switched off                                          2.597403\n",
       "Busy                                                  2.012987\n",
       "Lost to EINS                                          1.893939\n",
       "Not doing further education                           1.569264\n",
       "Interested  in full time MBA                          1.266234\n",
       "Graduation in progress                                1.201299\n",
       "invalid number                                        0.898268\n",
       "Diploma holder (Not Eligible)                         0.681818\n",
       "wrong number given                                    0.508658\n",
       "opp hangup                                            0.357143\n",
       "number not provided                                   0.292208\n",
       "in touch with EINS                                    0.129870\n",
       "Lost to Others                                        0.075758\n",
       "Still Thinking                                        0.064935\n",
       "Want to take admission but has financial problems     0.064935\n",
       "In confusion whether part time or DLP                 0.054113\n",
       "Interested in Next batch                              0.054113\n",
       "Lateral student                                       0.032468\n",
       "Shall take in the next coming month                   0.021645\n",
       "University not recognized                             0.021645\n",
       "Recognition issue (DEC approval)                      0.010823\n",
       "Name: Tags, dtype: float64"
      ]
     },
     "execution_count": 26,
     "metadata": {},
     "output_type": "execute_result"
    }
   ],
   "source": [
    "# Columns \"TAGS\"\n",
    "\n",
    "leads['Tags'].value_counts(dropna=False,normalize=True)*100"
   ]
  },
  {
   "cell_type": "code",
   "execution_count": 27,
   "id": "68287de7",
   "metadata": {},
   "outputs": [],
   "source": [
    "#replacing Nan values with \"Not Specified\"\n",
    "\n",
    "leads['Tags'] = leads['Tags'].replace(np.nan,'Not Specified')"
   ]
  },
  {
   "cell_type": "code",
   "execution_count": 28,
   "id": "66b70853",
   "metadata": {},
   "outputs": [],
   "source": [
    "# Again as we can see there are many values in \"Tags\" that are present even less that 5%. So we club those values to into a single categry to assist us in DUMMY creation Step.\n",
    "\n",
    "leads['Tags'] = leads['Tags'].replace(['In confusion whether part time or DLP', 'in touch with EINS','Diploma holder (Not Eligible)',\n",
    "                                     'Approached upfront','Graduation in progress','number not provided', 'opp hangup','Still Thinking',\n",
    "                                    'Lost to Others','Shall take in the next coming month','Lateral student','Interested in Next batch',\n",
    "                                    'Recognition issue (DEC approval)','Want to take admission but has financial problems',\n",
    "                                    'University not recognized'], 'Other_Tags')\n",
    "leads['Tags'] = leads['Tags'].replace(['switched off','Already a student','Lost to EINS','Not doing further education','Busy','invalid number','Closed by Horizzon','wrong number given',\n",
    "                                       'Interested  in full time MBA'] , 'Other_Tags')"
   ]
  },
  {
   "cell_type": "code",
   "execution_count": 29,
   "id": "d44b625f",
   "metadata": {},
   "outputs": [
    {
     "data": {
      "text/plain": [
       "Not Specified                          36.287879\n",
       "Other_Tags                             22.716450\n",
       "Will revert after reading the email    22.424242\n",
       "Ringing                                13.019481\n",
       "Interested in other courses             5.551948\n",
       "Name: Tags, dtype: float64"
      ]
     },
     "execution_count": 29,
     "metadata": {},
     "output_type": "execute_result"
    }
   ],
   "source": [
    "leads['Tags'].value_counts(dropna=False,normalize=True)*100"
   ]
  },
  {
   "cell_type": "markdown",
   "id": "bbf152d7",
   "metadata": {},
   "source": [
    "    *******************************************************************************************************************"
   ]
  },
  {
   "cell_type": "code",
   "execution_count": 30,
   "id": "6105b274",
   "metadata": {},
   "outputs": [
    {
     "data": {
      "text/plain": [
       "NaN                            39.707792\n",
       "Mumbai                         34.870130\n",
       "Thane & Outskirts               8.138528\n",
       "Other Cities                    7.424242\n",
       "Other Cities of Maharashtra     4.945887\n",
       "Other Metro Cities              4.112554\n",
       "Tier II Cities                  0.800866\n",
       "Name: City, dtype: float64"
      ]
     },
     "execution_count": 30,
     "metadata": {},
     "output_type": "execute_result"
    }
   ],
   "source": [
    "# CITY column.\n",
    "\n",
    "leads['City'].value_counts(dropna=False,normalize=True)*100"
   ]
  },
  {
   "cell_type": "code",
   "execution_count": 31,
   "id": "74f4a6e0",
   "metadata": {},
   "outputs": [],
   "source": [
    "# Replacing NaN values with \"Mumbai\"\n",
    "\n",
    "leads['City'] = leads['City'].replace(np.nan,'Mumbai')"
   ]
  },
  {
   "cell_type": "markdown",
   "id": "775de9c5",
   "metadata": {},
   "source": [
    "**************"
   ]
  },
  {
   "cell_type": "markdown",
   "id": "9a4e4255",
   "metadata": {},
   "source": [
    "Finally checking again for Null values."
   ]
  },
  {
   "cell_type": "code",
   "execution_count": 32,
   "id": "d0e544df",
   "metadata": {
    "scrolled": true
   },
   "outputs": [
    {
     "data": {
      "text/plain": [
       "Lead Origin                                      0.00\n",
       "Lead Source                                      0.39\n",
       "Do Not Email                                     0.00\n",
       "Do Not Call                                      0.00\n",
       "Converted                                        0.00\n",
       "TotalVisits                                      1.48\n",
       "Total Time Spent on Website                      0.00\n",
       "Page Views Per Visit                             1.48\n",
       "Last Activity                                    1.11\n",
       "Country                                          0.00\n",
       "Specialization                                   0.00\n",
       "What is your current occupation                  0.00\n",
       "What matters most to you in choosing a course    0.00\n",
       "Search                                           0.00\n",
       "Magazine                                         0.00\n",
       "Newspaper Article                                0.00\n",
       "X Education Forums                               0.00\n",
       "Newspaper                                        0.00\n",
       "Digital Advertisement                            0.00\n",
       "Through Recommendations                          0.00\n",
       "Receive More Updates About Our Courses           0.00\n",
       "Tags                                             0.00\n",
       "Update me on Supply Chain Content                0.00\n",
       "Get updates on DM Content                        0.00\n",
       "City                                             0.00\n",
       "I agree to pay the amount through cheque         0.00\n",
       "A free copy of Mastering The Interview           0.00\n",
       "Last Notable Activity                            0.00\n",
       "dtype: float64"
      ]
     },
     "execution_count": 32,
     "metadata": {},
     "output_type": "execute_result"
    }
   ],
   "source": [
    "perc_null(leads)"
   ]
  },
  {
   "cell_type": "markdown",
   "id": "0c938c38",
   "metadata": {},
   "source": [
    "***********************************************************************************************"
   ]
  },
  {
   "cell_type": "code",
   "execution_count": 85,
   "id": "9e1a5ce6",
   "metadata": {
    "scrolled": false
   },
   "outputs": [
    {
     "name": "stdout",
     "output_type": "stream",
     "text": [
      "Landing Page Submission    4886\n",
      "API                        3580\n",
      "Lead Add Form               718\n",
      "Lead Import                  55\n",
      "Quick Add Form                1\n",
      "Name: Lead Origin, dtype: int64\n",
      "----------------------------------------------------------------------------------------\n",
      "Google               2868\n",
      "Direct Traffic       2543\n",
      "Olark Chat           1755\n",
      "Organic Search       1154\n",
      "Reference             534\n",
      "Welingak Website      142\n",
      "Referral Sites        125\n",
      "Facebook               55\n",
      "bing                    6\n",
      "google                  5\n",
      "Click2call              4\n",
      "Press_Release           2\n",
      "Social Media            2\n",
      "Live Chat               2\n",
      "WeLearn                 1\n",
      "Pay per Click Ads       1\n",
      "NC_EDM                  1\n",
      "blog                    1\n",
      "testone                 1\n",
      "welearnblog_Home        1\n",
      "youtubechannel          1\n",
      "Name: Lead Source, dtype: int64\n",
      "----------------------------------------------------------------------------------------\n",
      "No     8506\n",
      "Yes     734\n",
      "Name: Do Not Email, dtype: int64\n",
      "----------------------------------------------------------------------------------------\n",
      "No     9238\n",
      "Yes       2\n",
      "Name: Do Not Call, dtype: int64\n",
      "----------------------------------------------------------------------------------------\n",
      "0    5679\n",
      "1    3561\n",
      "Name: Converted, dtype: int64\n",
      "----------------------------------------------------------------------------------------\n",
      "0.0      2189\n",
      "2.0      1680\n",
      "3.0      1306\n",
      "4.0      1120\n",
      "5.0       783\n",
      "6.0       466\n",
      "1.0       395\n",
      "7.0       309\n",
      "8.0       224\n",
      "9.0       164\n",
      "10.0      114\n",
      "11.0       86\n",
      "13.0       48\n",
      "12.0       45\n",
      "14.0       36\n",
      "16.0       21\n",
      "15.0       18\n",
      "17.0       16\n",
      "18.0       15\n",
      "20.0       12\n",
      "19.0        9\n",
      "23.0        6\n",
      "21.0        6\n",
      "24.0        5\n",
      "25.0        5\n",
      "27.0        5\n",
      "22.0        3\n",
      "26.0        2\n",
      "28.0        2\n",
      "29.0        2\n",
      "54.0        1\n",
      "141.0       1\n",
      "115.0       1\n",
      "74.0        1\n",
      "55.0        1\n",
      "30.0        1\n",
      "43.0        1\n",
      "42.0        1\n",
      "41.0        1\n",
      "32.0        1\n",
      "251.0       1\n",
      "Name: TotalVisits, dtype: int64\n",
      "----------------------------------------------------------------------------------------\n",
      "0       2193\n",
      "60        19\n",
      "75        18\n",
      "74        18\n",
      "127       18\n",
      "        ... \n",
      "1091       1\n",
      "1088       1\n",
      "1085       1\n",
      "1084       1\n",
      "2272       1\n",
      "Name: Total Time Spent on Website, Length: 1731, dtype: int64\n",
      "----------------------------------------------------------------------------------------\n",
      "0.0     2189\n",
      "2.0     1795\n",
      "3.0     1196\n",
      "4.0      896\n",
      "1.0      651\n",
      "        ... \n",
      "3.57       1\n",
      "3.8        1\n",
      "3.82       1\n",
      "3.83       1\n",
      "55.0       1\n",
      "Name: Page Views Per Visit, Length: 114, dtype: int64\n",
      "----------------------------------------------------------------------------------------\n",
      "Email Opened                    3437\n",
      "SMS Sent                        2745\n",
      "Olark Chat Conversation          973\n",
      "Page Visited on Website          640\n",
      "Converted to Lead                428\n",
      "Email Bounced                    326\n",
      "Email Link Clicked               267\n",
      "Form Submitted on Website        116\n",
      "Unreachable                       93\n",
      "Unsubscribed                      61\n",
      "Had a Phone Conversation          30\n",
      "Approached upfront                 9\n",
      "View in browser link Clicked       6\n",
      "Email Received                     2\n",
      "Email Marked Spam                  2\n",
      "Resubscribed to emails             1\n",
      "Visited Booth in Tradeshow         1\n",
      "Name: Last Activity, dtype: int64\n",
      "----------------------------------------------------------------------------------------\n",
      "India            6492\n",
      "Not Mentioned    2461\n",
      "Outside India     287\n",
      "Name: Country, dtype: int64\n",
      "----------------------------------------------------------------------------------------\n",
      "Not Mentioned                        3380\n",
      "Finance Management                    976\n",
      "Human Resource Management             848\n",
      "Marketing Management                  838\n",
      "Operations Management                 503\n",
      "Business Administration               403\n",
      "IT Projects Management                366\n",
      "Supply Chain Management               349\n",
      "Banking, Investment And Insurance     338\n",
      "Media and Advertising                 203\n",
      "Travel and Tourism                    203\n",
      "International Business                178\n",
      "Healthcare Management                 159\n",
      "Hospitality Management                114\n",
      "E-COMMERCE                            112\n",
      "Retail Management                     100\n",
      "Rural and Agribusiness                 73\n",
      "E-Business                             57\n",
      "Services Excellence                    40\n",
      "Name: Specialization, dtype: int64\n",
      "----------------------------------------------------------------------------------------\n",
      "Unemployed              8290\n",
      "Working Professional     706\n",
      "Student                  210\n",
      "Other                     16\n",
      "Housewife                 10\n",
      "Businessman                8\n",
      "Name: What is your current occupation, dtype: int64\n",
      "----------------------------------------------------------------------------------------\n",
      "Better Career Prospects      9237\n",
      "Flexibility & Convenience       2\n",
      "Other                           1\n",
      "Name: What matters most to you in choosing a course, dtype: int64\n",
      "----------------------------------------------------------------------------------------\n",
      "No     9226\n",
      "Yes      14\n",
      "Name: Search, dtype: int64\n",
      "----------------------------------------------------------------------------------------\n",
      "No    9240\n",
      "Name: Magazine, dtype: int64\n",
      "----------------------------------------------------------------------------------------\n",
      "No     9238\n",
      "Yes       2\n",
      "Name: Newspaper Article, dtype: int64\n",
      "----------------------------------------------------------------------------------------\n",
      "No     9239\n",
      "Yes       1\n",
      "Name: X Education Forums, dtype: int64\n",
      "----------------------------------------------------------------------------------------\n",
      "No     9239\n",
      "Yes       1\n",
      "Name: Newspaper, dtype: int64\n",
      "----------------------------------------------------------------------------------------\n",
      "No     9236\n",
      "Yes       4\n",
      "Name: Digital Advertisement, dtype: int64\n",
      "----------------------------------------------------------------------------------------\n",
      "No     9233\n",
      "Yes       7\n",
      "Name: Through Recommendations, dtype: int64\n",
      "----------------------------------------------------------------------------------------\n",
      "No    9240\n",
      "Name: Receive More Updates About Our Courses, dtype: int64\n",
      "----------------------------------------------------------------------------------------\n",
      "Not Specified                          3353\n",
      "Other_Tags                             2099\n",
      "Will revert after reading the email    2072\n",
      "Ringing                                1203\n",
      "Interested in other courses             513\n",
      "Name: Tags, dtype: int64\n",
      "----------------------------------------------------------------------------------------\n",
      "No    9240\n",
      "Name: Update me on Supply Chain Content, dtype: int64\n",
      "----------------------------------------------------------------------------------------\n",
      "No    9240\n",
      "Name: Get updates on DM Content, dtype: int64\n",
      "----------------------------------------------------------------------------------------\n",
      "Mumbai                         6891\n",
      "Thane & Outskirts               752\n",
      "Other Cities                    686\n",
      "Other Cities of Maharashtra     457\n",
      "Other Metro Cities              380\n",
      "Tier II Cities                   74\n",
      "Name: City, dtype: int64\n",
      "----------------------------------------------------------------------------------------\n",
      "No    9240\n",
      "Name: I agree to pay the amount through cheque, dtype: int64\n",
      "----------------------------------------------------------------------------------------\n",
      "No     6352\n",
      "Yes    2888\n",
      "Name: A free copy of Mastering The Interview, dtype: int64\n",
      "----------------------------------------------------------------------------------------\n",
      "Modified                        3407\n",
      "Email Opened                    2827\n",
      "SMS Sent                        2172\n",
      "Page Visited on Website          318\n",
      "Olark Chat Conversation          183\n",
      "Email Link Clicked               173\n",
      "Email Bounced                     60\n",
      "Unsubscribed                      47\n",
      "Unreachable                       32\n",
      "Had a Phone Conversation          14\n",
      "Email Marked Spam                  2\n",
      "Approached upfront                 1\n",
      "Email Received                     1\n",
      "Form Submitted on Website          1\n",
      "Resubscribed to emails             1\n",
      "View in browser link Clicked       1\n",
      "Name: Last Notable Activity, dtype: int64\n",
      "----------------------------------------------------------------------------------------\n"
     ]
    }
   ],
   "source": [
    "for column in leads:\n",
    "    print(leads[column].astype('category').value_counts())\n",
    "    print('----------------------------------------------------------------------------------------')"
   ]
  },
  {
   "cell_type": "code",
   "execution_count": 34,
   "id": "f24ca132",
   "metadata": {},
   "outputs": [],
   "source": [
    " #📌 DROPPING THE REMAINING NULL VALUES as the percentage is less that 2 % so it will not affect our data adversly.\n",
    " \n",
    "leads_final=leads.dropna()"
   ]
  },
  {
   "cell_type": "code",
   "execution_count": 35,
   "id": "6da503ff",
   "metadata": {
    "scrolled": true
   },
   "outputs": [
    {
     "data": {
      "text/plain": [
       "Lead Origin                                      0.0\n",
       "Lead Source                                      0.0\n",
       "Do Not Email                                     0.0\n",
       "Do Not Call                                      0.0\n",
       "Converted                                        0.0\n",
       "TotalVisits                                      0.0\n",
       "Total Time Spent on Website                      0.0\n",
       "Page Views Per Visit                             0.0\n",
       "Last Activity                                    0.0\n",
       "Country                                          0.0\n",
       "Specialization                                   0.0\n",
       "What is your current occupation                  0.0\n",
       "What matters most to you in choosing a course    0.0\n",
       "Search                                           0.0\n",
       "Magazine                                         0.0\n",
       "Newspaper Article                                0.0\n",
       "X Education Forums                               0.0\n",
       "Newspaper                                        0.0\n",
       "Digital Advertisement                            0.0\n",
       "Through Recommendations                          0.0\n",
       "Receive More Updates About Our Courses           0.0\n",
       "Tags                                             0.0\n",
       "Update me on Supply Chain Content                0.0\n",
       "Get updates on DM Content                        0.0\n",
       "City                                             0.0\n",
       "I agree to pay the amount through cheque         0.0\n",
       "A free copy of Mastering The Interview           0.0\n",
       "Last Notable Activity                            0.0\n",
       "dtype: float64"
      ]
     },
     "execution_count": 35,
     "metadata": {},
     "output_type": "execute_result"
    }
   ],
   "source": [
    "perc_null(leads_final)"
   ]
  },
  {
   "cell_type": "code",
   "execution_count": 36,
   "id": "aba55691",
   "metadata": {},
   "outputs": [
    {
     "data": {
      "text/plain": [
       "(9074, 28)"
      ]
     },
     "execution_count": 36,
     "metadata": {},
     "output_type": "execute_result"
    }
   ],
   "source": [
    "leads_final.shape"
   ]
  },
  {
   "cell_type": "code",
   "execution_count": null,
   "id": "5096abca",
   "metadata": {},
   "outputs": [],
   "source": []
  },
  {
   "cell_type": "markdown",
   "id": "d44d6494",
   "metadata": {},
   "source": [
    "    *******************************************************************************************************************"
   ]
  },
  {
   "cell_type": "markdown",
   "id": "792743d1",
   "metadata": {},
   "source": [
    "### 2. EDA"
   ]
  },
  {
   "cell_type": "markdown",
   "id": "9ea4f1c4",
   "metadata": {},
   "source": [
    "#### 2.1 Univariate Analysis"
   ]
  },
  {
   "cell_type": "markdown",
   "id": "0f8b1588",
   "metadata": {},
   "source": [
    "###### 2.1.1 Categorical columns"
   ]
  },
  {
   "cell_type": "code",
   "execution_count": 37,
   "id": "5bfc5fcb",
   "metadata": {},
   "outputs": [
    {
     "name": "stdout",
     "output_type": "stream",
     "text": [
      "<class 'pandas.core.frame.DataFrame'>\n",
      "Int64Index: 9074 entries, 0 to 9239\n",
      "Data columns (total 28 columns):\n",
      " #   Column                                         Non-Null Count  Dtype  \n",
      "---  ------                                         --------------  -----  \n",
      " 0   Lead Origin                                    9074 non-null   object \n",
      " 1   Lead Source                                    9074 non-null   object \n",
      " 2   Do Not Email                                   9074 non-null   object \n",
      " 3   Do Not Call                                    9074 non-null   object \n",
      " 4   Converted                                      9074 non-null   int64  \n",
      " 5   TotalVisits                                    9074 non-null   float64\n",
      " 6   Total Time Spent on Website                    9074 non-null   int64  \n",
      " 7   Page Views Per Visit                           9074 non-null   float64\n",
      " 8   Last Activity                                  9074 non-null   object \n",
      " 9   Country                                        9074 non-null   object \n",
      " 10  Specialization                                 9074 non-null   object \n",
      " 11  What is your current occupation                9074 non-null   object \n",
      " 12  What matters most to you in choosing a course  9074 non-null   object \n",
      " 13  Search                                         9074 non-null   object \n",
      " 14  Magazine                                       9074 non-null   object \n",
      " 15  Newspaper Article                              9074 non-null   object \n",
      " 16  X Education Forums                             9074 non-null   object \n",
      " 17  Newspaper                                      9074 non-null   object \n",
      " 18  Digital Advertisement                          9074 non-null   object \n",
      " 19  Through Recommendations                        9074 non-null   object \n",
      " 20  Receive More Updates About Our Courses         9074 non-null   object \n",
      " 21  Tags                                           9074 non-null   object \n",
      " 22  Update me on Supply Chain Content              9074 non-null   object \n",
      " 23  Get updates on DM Content                      9074 non-null   object \n",
      " 24  City                                           9074 non-null   object \n",
      " 25  I agree to pay the amount through cheque       9074 non-null   object \n",
      " 26  A free copy of Mastering The Interview         9074 non-null   object \n",
      " 27  Last Notable Activity                          9074 non-null   object \n",
      "dtypes: float64(2), int64(2), object(24)\n",
      "memory usage: 2.0+ MB\n"
     ]
    }
   ],
   "source": [
    "leads_final.info()"
   ]
  },
  {
   "cell_type": "code",
   "execution_count": 38,
   "id": "4e56bfeb",
   "metadata": {
    "scrolled": false
   },
   "outputs": [
    {
     "data": {
      "image/png": "[encoded data removed]",
      "text/plain": [
       "<Figure size 1440x2880 with 12 Axes>"
      ]
     },
     "metadata": {},
     "output_type": "display_data"
    }
   ],
   "source": [
    "sns.set_theme(style=\"whitegrid\")\n",
    "\n",
    "plt.figure(figsize = (20,40))\n",
    "\n",
    "plt.subplot(6,2,1)\n",
    "sns.countplot(leads_final['Lead Origin'])\n",
    "plt.title('Lead Origin')\n",
    "\n",
    "plt.subplot(6,2,2)\n",
    "sns.countplot(leads_final['Do Not Email'])\n",
    "plt.title('Do Not Email')\n",
    "\n",
    "plt.subplot(6,2,3)\n",
    "sns.countplot(leads_final['Do Not Call'])\n",
    "plt.title('Do Not Call')\n",
    "\n",
    "plt.subplot(6,2,4)\n",
    "sns.countplot(leads_final['Country'])\n",
    "plt.title('Country')\n",
    "\n",
    "plt.subplot(6,2,5)\n",
    "sns.countplot(leads_final['Search'])\n",
    "plt.title('Search')\n",
    "\n",
    "plt.subplot(6,2,6)\n",
    "sns.countplot(leads_final['Newspaper Article'])\n",
    "plt.title('Newspaper Article')\n",
    "\n",
    "plt.subplot(6,2,7)\n",
    "sns.countplot(leads_final['X Education Forums'])\n",
    "plt.title('X Education Forums')\n",
    "\n",
    "plt.subplot(6,2,8)\n",
    "sns.countplot(leads_final['Newspaper'])\n",
    "plt.title('Newspaper')\n",
    "\n",
    "plt.subplot(6,2,9)\n",
    "sns.countplot(leads_final['Digital Advertisement'])\n",
    "plt.title('Digital Advertisement')\n",
    "\n",
    "plt.subplot(6,2,10)\n",
    "sns.countplot(leads_final['Through Recommendations'])\n",
    "plt.title('Through Recommendations')\n",
    "\n",
    "plt.subplot(6,2,11)\n",
    "sns.countplot(leads_final['Last Activity']).tick_params(axis='x',rotation=90)\n",
    "plt.title('Last Activity')\n",
    "\n",
    "plt.subplot(6,2,12)\n",
    "sns.countplot(leads_final['Last Notable Activity']).tick_params(axis='x', rotation = 90)\n",
    "plt.title('Last Notable Activity')\n",
    "\n",
    "\n",
    "plt.show()"
   ]
  },
  {
   "cell_type": "raw",
   "id": "8d12f7b9",
   "metadata": {},
   "source": [
    "from the above graphs we can notice :\n",
    "    1. There are some variables with highly imbalanced data. We will drop these columns going forward.\n",
    "    2. Most of the contacts are from India.\n",
    "    "
   ]
  },
  {
   "cell_type": "markdown",
   "id": "67ea38a5",
   "metadata": {},
   "source": [
    "-----------------------------------------------------------------------------------------------"
   ]
  },
  {
   "cell_type": "code",
   "execution_count": 39,
   "id": "e4e5a675",
   "metadata": {},
   "outputs": [
    {
     "data": {
      "text/plain": [
       "Modified                        36.003967\n",
       "Email Opened                    31.110866\n",
       "SMS Sent                        23.716112\n",
       "Page Visited on Website          3.504518\n",
       "Olark Chat Conversation          2.016751\n",
       "Email Link Clicked               1.906546\n",
       "Email Bounced                    0.661230\n",
       "Unsubscribed                     0.495922\n",
       "Unreachable                      0.352656\n",
       "Had a Phone Conversation         0.154287\n",
       "Email Marked Spam                0.022041\n",
       "Approached upfront               0.011020\n",
       "Resubscribed to emails           0.011020\n",
       "View in browser link Clicked     0.011020\n",
       "Form Submitted on Website        0.011020\n",
       "Email Received                   0.011020\n",
       "Name: Last Notable Activity, dtype: float64"
      ]
     },
     "execution_count": 39,
     "metadata": {},
     "output_type": "execute_result"
    }
   ],
   "source": [
    "# By looking at the above plots we can see some improper values in some columns, now to help us in furthur steps we combine less occuring values into a single category.\n",
    "\n",
    "leads_final['Last Notable Activity'].value_counts(normalize=True)*100"
   ]
  },
  {
   "cell_type": "code",
   "execution_count": 40,
   "id": "92208281",
   "metadata": {},
   "outputs": [],
   "source": [
    "leads_final['Last Notable Activity']=leads_final['Last Notable Activity'].replace(['Page Visited on Website','Olark Chat Conversation','Email Link Clicked',\n",
    "                                                                                    'Email Bounced','Unsubscribed','Unreachable','Had a Phone Conversation','Email Marked Spam',\n",
    "                                                                                    'Approached upfront','Resubscribed to emails','View in browser link Clicked',\n",
    "                                                                                    'Form Submitted on Website','Email Received'],'Other_Activity')"
   ]
  },
  {
   "cell_type": "code",
   "execution_count": 41,
   "id": "63079025",
   "metadata": {},
   "outputs": [
    {
     "data": {
      "text/plain": [
       "Email Opened                    37.822350\n",
       "SMS Sent                        29.931673\n",
       "Olark Chat Conversation         10.711924\n",
       "Page Visited on Website          7.053119\n",
       "Converted to Lead                4.716773\n",
       "Email Bounced                    3.438395\n",
       "Email Link Clicked               2.942473\n",
       "Form Submitted on Website        1.278378\n",
       "Unreachable                      0.991845\n",
       "Unsubscribed                     0.650209\n",
       "Had a Phone Conversation         0.275512\n",
       "View in browser link Clicked     0.066123\n",
       "Approached upfront               0.055102\n",
       "Email Received                   0.022041\n",
       "Email Marked Spam                0.022041\n",
       "Visited Booth in Tradeshow       0.011020\n",
       "Resubscribed to emails           0.011020\n",
       "Name: Last Activity, dtype: float64"
      ]
     },
     "execution_count": 41,
     "metadata": {},
     "output_type": "execute_result"
    }
   ],
   "source": [
    "leads_final['Last Activity'].value_counts(normalize=True)*100"
   ]
  },
  {
   "cell_type": "code",
   "execution_count": 42,
   "id": "6babad04",
   "metadata": {},
   "outputs": [],
   "source": [
    "leads_final['Last Activity']=leads_final['Last Activity'].replace(['Form Submitted on Website','Unreachable','Unsubscribed',\n",
    "                                                                    'Had a Phone Conversation','Approached upfront','View in browser link Clicked',\n",
    "                                                                    'Email Received','Email Marked Spam',\n",
    "                                                                    'Visited Booth in Tradeshow','Resubscribed to emails'],'Other_Activity')"
   ]
  },
  {
   "cell_type": "markdown",
   "id": "aaf32171",
   "metadata": {},
   "source": [
    " ***************************************************************************************"
   ]
  },
  {
   "cell_type": "code",
   "execution_count": 43,
   "id": "931fecd6",
   "metadata": {},
   "outputs": [
    {
     "data": {
      "image/png": "[encoded data removed]",
      "text/plain": [
       "<Figure size 360x360 with 1 Axes>"
      ]
     },
     "metadata": {},
     "output_type": "display_data"
    }
   ],
   "source": [
    "plt.figure(figsize = (5,5))\n",
    "\n",
    "sns.countplot(data=leads_final,y='Lead Source').tick_params(axis='y')\n",
    "plt.title('Lead Source')\n",
    "plt.show()"
   ]
  },
  {
   "cell_type": "markdown",
   "id": "3cb9dfa4",
   "metadata": {},
   "source": [
    "###### 📌 The graph above shows that major source of getting the leads is GOOGLE. "
   ]
  },
  {
   "cell_type": "markdown",
   "id": "3329fdda",
   "metadata": {},
   "source": [
    "Also based on the above plot we can club the lower frequency values into a single category to ease our process."
   ]
  },
  {
   "cell_type": "code",
   "execution_count": 44,
   "id": "b7fdf6fe",
   "metadata": {},
   "outputs": [
    {
     "data": {
      "text/plain": [
       "Google               31.606789\n",
       "Direct Traffic       28.025127\n",
       "Olark Chat           19.318933\n",
       "Organic Search       12.717655\n",
       "Reference             4.882081\n",
       "Welingak Website      1.421644\n",
       "Referral Sites        1.377562\n",
       "Facebook              0.341635\n",
       "bing                  0.066123\n",
       "google                0.055102\n",
       "Click2call            0.044082\n",
       "Press_Release         0.022041\n",
       "Social Media          0.022041\n",
       "Live Chat             0.022041\n",
       "youtubechannel        0.011020\n",
       "testone               0.011020\n",
       "Pay per Click Ads     0.011020\n",
       "welearnblog_Home      0.011020\n",
       "WeLearn               0.011020\n",
       "blog                  0.011020\n",
       "NC_EDM                0.011020\n",
       "Name: Lead Source, dtype: float64"
      ]
     },
     "execution_count": 44,
     "metadata": {},
     "output_type": "execute_result"
    }
   ],
   "source": [
    "# Checking the values_counts\n",
    "\n",
    "leads_final['Lead Source'].value_counts(normalize=True)*100"
   ]
  },
  {
   "cell_type": "code",
   "execution_count": 45,
   "id": "952b883c",
   "metadata": {},
   "outputs": [],
   "source": [
    "# combining low frequency values and also replacing left over nan values if any. As this would help in DUMMY Creation in furthur steps.\n",
    "\n",
    "leads_final['Lead Source'] = leads_final['Lead Source'].replace(np.nan,'Others')\n",
    "leads_final['Lead Source'] = leads_final['Lead Source'].replace('google','Google')\n",
    "leads_final['Lead Source'] = leads_final['Lead Source'].replace('Facebook','Social Media')\n",
    "leads_final['Lead Source'] = leads_final['Lead Source'].replace(['bing','Click2call','Press_Release',\n",
    "                                                     'youtubechannel','welearnblog_Home',\n",
    "                                                     'WeLearn','blog','Pay per Click Ads',\n",
    "                                                    'testone','NC_EDM','Live Chat'] ,'Others')  "
   ]
  },
  {
   "cell_type": "markdown",
   "id": "f3b924e3",
   "metadata": {},
   "source": [
    "*************************************************************************************************"
   ]
  },
  {
   "cell_type": "code",
   "execution_count": 46,
   "id": "49ab855e",
   "metadata": {},
   "outputs": [
    {
     "data": {
      "image/png": "[encoded data removed]",
      "text/plain": [
       "<Figure size 360x360 with 1 Axes>"
      ]
     },
     "metadata": {},
     "output_type": "display_data"
    }
   ],
   "source": [
    "plt.figure(figsize = (5,5))\n",
    "\n",
    "sns.countplot(data=leads_final,y='Specialization',orient=\"h\").tick_params(axis='x', rotation = 90)\n",
    "plt.title('Specialization')\n",
    "plt.show()"
   ]
  },
  {
   "cell_type": "markdown",
   "id": "09462bc8",
   "metadata": {},
   "source": [
    "###### 📌 From the above we see that a Majority of the customers choose not to specify thier domain in which they are working. And a large number of customer are from Finance Management. Overall Management segment has majority of customers."
   ]
  },
  {
   "cell_type": "markdown",
   "id": "9e5ff97b",
   "metadata": {},
   "source": [
    "Again we can see as there are multiple segments for MANAGEMENT we can again club them together for a better insight."
   ]
  },
  {
   "cell_type": "code",
   "execution_count": 47,
   "id": "170a1fd4",
   "metadata": {},
   "outputs": [
    {
     "data": {
      "text/plain": [
       "Not Mentioned                        36.169275\n",
       "Finance Management                   10.568658\n",
       "Human Resource Management             9.224157\n",
       "Marketing Management                  9.069870\n",
       "Operations Management                 5.499229\n",
       "Business Administration               4.397179\n",
       "IT Projects Management                4.033502\n",
       "Supply Chain Management               3.813092\n",
       "Banking, Investment And Insurance     3.691867\n",
       "Travel and Tourism                    2.226141\n",
       "Media and Advertising                 2.226141\n",
       "International Business                1.939608\n",
       "Healthcare Management                 1.719198\n",
       "E-COMMERCE                            1.223275\n",
       "Hospitality Management                1.223275\n",
       "Retail Management                     1.102050\n",
       "Rural and Agribusiness                0.804496\n",
       "E-Business                            0.628168\n",
       "Services Excellence                   0.440820\n",
       "Name: Specialization, dtype: float64"
      ]
     },
     "execution_count": 47,
     "metadata": {},
     "output_type": "execute_result"
    }
   ],
   "source": [
    "leads_final['Specialization'].value_counts(normalize=True)*100"
   ]
  },
  {
   "cell_type": "code",
   "execution_count": 48,
   "id": "ff0d586d",
   "metadata": {},
   "outputs": [],
   "source": [
    "leads_final['Specialization'] = leads_final['Specialization'].replace(['Finance Management','Human Resource Management','Marketing Management',\n",
    "                                                     'Operations Management','IT Projects Management',\n",
    "                                                     'Supply Chain Management','Healthcare Management','Hospitality Management',\n",
    "                                                    'Retail Management'] ,'Management') "
   ]
  },
  {
   "cell_type": "markdown",
   "id": "249e3c16",
   "metadata": {},
   "source": [
    "Combinig multiple values will help later in our DUMMY creation STEP.\n",
    "***********************************************************************************"
   ]
  },
  {
   "cell_type": "code",
   "execution_count": 49,
   "id": "212bd98e",
   "metadata": {},
   "outputs": [
    {
     "data": {
      "image/png": "[encoded data removed]",
      "text/plain": [
       "<Figure size 432x288 with 1 Axes>"
      ]
     },
     "metadata": {},
     "output_type": "display_data"
    }
   ],
   "source": [
    "sns.countplot(data=leads_final,y='What is your current occupation').tick_params(axis='x')\n",
    "\n",
    "plt.title('Current Occupation')\n",
    "\n",
    "plt.show()"
   ]
  },
  {
   "cell_type": "markdown",
   "id": "acd6d4fc",
   "metadata": {},
   "source": [
    "###### 📌 From aboe it is seen that most of the customers are UNEMPLOYED."
   ]
  },
  {
   "cell_type": "code",
   "execution_count": 50,
   "id": "4d24e4f8",
   "metadata": {},
   "outputs": [
    {
     "data": {
      "image/png": "[encoded data removed]",
      "text/plain": [
       "<Figure size 432x288 with 1 Axes>"
      ]
     },
     "metadata": {},
     "output_type": "display_data"
    }
   ],
   "source": [
    "sns.countplot(data=leads_final,x='What matters most to you in choosing a course').tick_params(axis='x', rotation = 50)\n",
    "\n",
    "plt.title('What matters most to you in choosing a course')\n",
    "\n",
    "plt.show()"
   ]
  },
  {
   "cell_type": "markdown",
   "id": "7a51651c",
   "metadata": {},
   "source": [
    "📌 Here from the above plot we see a clear majority of people doing the Course with the motto of BETTER CAREER PROSPECTS. However this is also an unbalanced variable."
   ]
  },
  {
   "cell_type": "code",
   "execution_count": 51,
   "id": "35c11350",
   "metadata": {},
   "outputs": [
    {
     "data": {
      "image/png": "[encoded data removed]",
      "text/plain": [
       "<Figure size 432x288 with 1 Axes>"
      ]
     },
     "metadata": {},
     "output_type": "display_data"
    }
   ],
   "source": [
    "sns.countplot(leads['Converted'])\n",
    "\n",
    "plt.title('Converted(\"Y variable\")')\n",
    "\n",
    "plt.show()"
   ]
  },
  {
   "cell_type": "markdown",
   "id": "7313f56a",
   "metadata": {},
   "source": [
    "📌 From the above we see that untill now most majority of the leads that the company got were not Converted i.e did not buy/enroll into any of the courses."
   ]
  },
  {
   "cell_type": "markdown",
   "id": "515553f9",
   "metadata": {},
   "source": [
    "Comparing some of the catergorical variables with the Target variable i.e Converted."
   ]
  },
  {
   "cell_type": "code",
   "execution_count": 52,
   "id": "fe36a50a",
   "metadata": {},
   "outputs": [
    {
     "data": {
      "image/png": "[encoded data removed]",
      "text/plain": [
       "<Figure size 1080x360 with 2 Axes>"
      ]
     },
     "metadata": {},
     "output_type": "display_data"
    }
   ],
   "source": [
    "\n",
    "plt.figure(figsize = (15,5))\n",
    "\n",
    "plt.subplot(1,2,1)\n",
    "sns.countplot(x='Lead Origin', hue='Converted', data= leads_final).tick_params(axis='x', rotation = 90)\n",
    "plt.title('Lead Origin')\n",
    "\n",
    "plt.subplot(1,2,2)\n",
    "sns.countplot(x='Lead Source', hue='Converted', data= leads_final).tick_params(axis='x', rotation = 90)\n",
    "plt.title('Lead Source')\n",
    "plt.show()"
   ]
  },
  {
   "cell_type": "markdown",
   "id": "d14ac659",
   "metadata": {},
   "source": [
    "1. Majority of the Leads were Identified at the \"Landing Page Submission\"\n",
    "2. \"Olark Chat\", \"Direct Trafic\" and \"Google\" were major Lead sources and amongst them Google saw highe lead conversion."
   ]
  },
  {
   "cell_type": "code",
   "execution_count": 53,
   "id": "4176976c",
   "metadata": {},
   "outputs": [
    {
     "data": {
      "image/png": "[encoded data removed]",
      "text/plain": [
       "<Figure size 1080x360 with 2 Axes>"
      ]
     },
     "metadata": {},
     "output_type": "display_data"
    }
   ],
   "source": [
    "plt.figure(figsize = (15,5))\n",
    "\n",
    "plt.subplot(1,2,1)\n",
    "sns.countplot(x='Specialization', hue='Converted', data= leads_final).tick_params(axis='x', rotation = 90)\n",
    "plt.title('Specialization')\n",
    "\n",
    "plt.subplot(1,2,2)\n",
    "sns.countplot(x='What is your current occupation', hue='Converted', data= leads_final).tick_params(axis='x', rotation = 90)\n",
    "plt.title('What is your current occupation')\n",
    "plt.show()"
   ]
  },
  {
   "cell_type": "markdown",
   "id": "3d54701a",
   "metadata": {},
   "source": [
    "📌 Majority of the Leads have choosen Not to mention their workig Domain and also majority of the customers are Unemployed."
   ]
  },
  {
   "cell_type": "code",
   "execution_count": 54,
   "id": "b5bc16cc",
   "metadata": {},
   "outputs": [
    {
     "data": {
      "image/png": "[encoded data removed]",
      "text/plain": [
       "<Figure size 1080x360 with 2 Axes>"
      ]
     },
     "metadata": {},
     "output_type": "display_data"
    }
   ],
   "source": [
    "plt.figure(figsize = (15,5))\n",
    "\n",
    "plt.subplot(1,2,1)\n",
    "sns.countplot(x='What matters most to you in choosing a course', hue='Converted', data= leads_final).tick_params(axis='x', rotation = 90)\n",
    "plt.title('What matters most to you in choosing a course')\n",
    "\n",
    "plt.subplot(1,2,2)\n",
    "sns.countplot(x='Country', hue='Converted', data= leads_final).tick_params(axis='x', rotation = 90)\n",
    "plt.title('Country')\n",
    "plt.show()"
   ]
  },
  {
   "cell_type": "markdown",
   "id": "2b05c8ce",
   "metadata": {},
   "source": [
    "This plot shows a particular reson majorily why people are choosing a course.\n",
    "Also most of the leads are from INDIA. Also here again we can see an imbalance in data."
   ]
  },
  {
   "cell_type": "code",
   "execution_count": 55,
   "id": "1584a5ff",
   "metadata": {},
   "outputs": [
    {
     "data": {
      "image/png": "[encoded data removed]",
      "text/plain": [
       "<Figure size 1080x360 with 2 Axes>"
      ]
     },
     "metadata": {},
     "output_type": "display_data"
    }
   ],
   "source": [
    "plt.figure(figsize = (15,5))\n",
    "\n",
    "plt.subplot(1,2,1)\n",
    "sns.countplot(x='Through Recommendations', hue='Converted', data= leads_final).tick_params(axis='x', rotation = 90)\n",
    "plt.title('Through Recommendations')\n",
    "\n",
    "plt.subplot(1,2,2)\n",
    "sns.countplot(x='A free copy of Mastering The Interview', hue='Converted', data= leads_final).tick_params(axis='x', rotation = 90)\n",
    "plt.title('A free copy of Mastering The Interview')\n",
    "plt.show()"
   ]
  },
  {
   "cell_type": "markdown",
   "id": "16ca9b09",
   "metadata": {},
   "source": [
    "This plot does not gives much inference apart from a fact that \"Through Recommendation\" is also imbalanced."
   ]
  },
  {
   "cell_type": "code",
   "execution_count": 56,
   "id": "36d79356",
   "metadata": {},
   "outputs": [
    {
     "data": {
      "text/plain": [
       "Lead Origin                                         4\n",
       "Lead Source                                         9\n",
       "Do Not Email                                        2\n",
       "Do Not Call                                         2\n",
       "Converted                                           2\n",
       "TotalVisits                                        41\n",
       "Total Time Spent on Website                      1717\n",
       "Page Views Per Visit                              114\n",
       "Last Activity                                       8\n",
       "Country                                             3\n",
       "Specialization                                     11\n",
       "What is your current occupation                     6\n",
       "What matters most to you in choosing a course       3\n",
       "Search                                              2\n",
       "Magazine                                            1\n",
       "Newspaper Article                                   2\n",
       "X Education Forums                                  2\n",
       "Newspaper                                           2\n",
       "Digital Advertisement                               2\n",
       "Through Recommendations                             2\n",
       "Receive More Updates About Our Courses              1\n",
       "Tags                                                5\n",
       "Update me on Supply Chain Content                   1\n",
       "Get updates on DM Content                           1\n",
       "City                                                6\n",
       "I agree to pay the amount through cheque            1\n",
       "A free copy of Mastering The Interview              2\n",
       "Last Notable Activity                               4\n",
       "dtype: int64"
      ]
     },
     "execution_count": 56,
     "metadata": {},
     "output_type": "execute_result"
    }
   ],
   "source": [
    "# Now we check if there are columns with lowest frequency of Unique values.\n",
    " \n",
    "leads_final.nunique()\n"
   ]
  },
  {
   "cell_type": "markdown",
   "id": "164260c7",
   "metadata": {},
   "source": [
    "*******************************************************************              "
   ]
  },
  {
   "cell_type": "code",
   "execution_count": 57,
   "id": "43bbac2e",
   "metadata": {},
   "outputs": [
    {
     "data": {
      "text/plain": [
       "No     92.109323\n",
       "Yes     7.890677\n",
       "Name: Do Not Email, dtype: float64"
      ]
     },
     "execution_count": 57,
     "metadata": {},
     "output_type": "execute_result"
    }
   ],
   "source": [
    "leads_final['Do Not Email'].value_counts(normalize=True)*100"
   ]
  },
  {
   "cell_type": "code",
   "execution_count": 58,
   "id": "6adad4e6",
   "metadata": {},
   "outputs": [
    {
     "data": {
      "text/plain": [
       "0    62.144589\n",
       "1    37.855411\n",
       "Name: Converted, dtype: float64"
      ]
     },
     "execution_count": 58,
     "metadata": {},
     "output_type": "execute_result"
    }
   ],
   "source": [
    "leads_final['Converted'].value_counts(normalize=True)*100"
   ]
  },
  {
   "cell_type": "code",
   "execution_count": 59,
   "id": "135a8009",
   "metadata": {},
   "outputs": [
    {
     "data": {
      "text/plain": [
       "No     68.172801\n",
       "Yes    31.827199\n",
       "Name: A free copy of Mastering The Interview, dtype: float64"
      ]
     },
     "execution_count": 59,
     "metadata": {},
     "output_type": "execute_result"
    }
   ],
   "source": [
    "leads_final['A free copy of Mastering The Interview'].value_counts(normalize=True)*100"
   ]
  },
  {
   "cell_type": "code",
   "execution_count": 60,
   "id": "5d6b5712",
   "metadata": {},
   "outputs": [],
   "source": [
    "# Based on our visualisation above we will now delete the unwanted/ Unbalanced columns / columns with least unique values\n",
    "\n",
    "Cols_to_del=['Country','What matters most to you in choosing a course','Do Not Call','Search','Magazine','Newspaper Article','X Education Forums',\n",
    "  'Newspaper','Digital Advertisement','Through Recommendations','Receive More Updates About Our Courses','Update me on Supply Chain Content','Get updates on DM Content','I agree to pay the amount through cheque']"
   ]
  },
  {
   "cell_type": "code",
   "execution_count": 61,
   "id": "8046a739",
   "metadata": {},
   "outputs": [
    {
     "name": "stdout",
     "output_type": "stream",
     "text": [
      "<class 'pandas.core.frame.DataFrame'>\n",
      "Int64Index: 9074 entries, 0 to 9239\n",
      "Data columns (total 14 columns):\n",
      " #   Column                                  Non-Null Count  Dtype  \n",
      "---  ------                                  --------------  -----  \n",
      " 0   Lead Origin                             9074 non-null   object \n",
      " 1   Lead Source                             9074 non-null   object \n",
      " 2   Do Not Email                            9074 non-null   object \n",
      " 3   Converted                               9074 non-null   int64  \n",
      " 4   TotalVisits                             9074 non-null   float64\n",
      " 5   Total Time Spent on Website             9074 non-null   int64  \n",
      " 6   Page Views Per Visit                    9074 non-null   float64\n",
      " 7   Last Activity                           9074 non-null   object \n",
      " 8   Specialization                          9074 non-null   object \n",
      " 9   What is your current occupation         9074 non-null   object \n",
      " 10  Tags                                    9074 non-null   object \n",
      " 11  City                                    9074 non-null   object \n",
      " 12  A free copy of Mastering The Interview  9074 non-null   object \n",
      " 13  Last Notable Activity                   9074 non-null   object \n",
      "dtypes: float64(2), int64(2), object(10)\n",
      "memory usage: 1.3+ MB\n"
     ]
    }
   ],
   "source": [
    "leads_final=leads_final.drop(Cols_to_del,1)\n",
    "\n",
    "leads_final.info()"
   ]
  },
  {
   "cell_type": "markdown",
   "id": "0da07d9e",
   "metadata": {},
   "source": [
    "-------------------------------------------------------------------------------------"
   ]
  },
  {
   "cell_type": "code",
   "execution_count": null,
   "id": "4a56b3bc",
   "metadata": {},
   "outputs": [],
   "source": []
  },
  {
   "cell_type": "markdown",
   "id": "4fe62d8f",
   "metadata": {},
   "source": [
    "2.1.2 Numerical Colums"
   ]
  },
  {
   "cell_type": "code",
   "execution_count": 62,
   "id": "dce1b327",
   "metadata": {},
   "outputs": [
    {
     "name": "stdout",
     "output_type": "stream",
     "text": [
      "<class 'pandas.core.frame.DataFrame'>\n",
      "Int64Index: 9074 entries, 0 to 9239\n",
      "Data columns (total 14 columns):\n",
      " #   Column                                  Non-Null Count  Dtype  \n",
      "---  ------                                  --------------  -----  \n",
      " 0   Lead Origin                             9074 non-null   object \n",
      " 1   Lead Source                             9074 non-null   object \n",
      " 2   Do Not Email                            9074 non-null   object \n",
      " 3   Converted                               9074 non-null   int64  \n",
      " 4   TotalVisits                             9074 non-null   float64\n",
      " 5   Total Time Spent on Website             9074 non-null   int64  \n",
      " 6   Page Views Per Visit                    9074 non-null   float64\n",
      " 7   Last Activity                           9074 non-null   object \n",
      " 8   Specialization                          9074 non-null   object \n",
      " 9   What is your current occupation         9074 non-null   object \n",
      " 10  Tags                                    9074 non-null   object \n",
      " 11  City                                    9074 non-null   object \n",
      " 12  A free copy of Mastering The Interview  9074 non-null   object \n",
      " 13  Last Notable Activity                   9074 non-null   object \n",
      "dtypes: float64(2), int64(2), object(10)\n",
      "memory usage: 1.3+ MB\n"
     ]
    }
   ],
   "source": [
    "leads_final.info()"
   ]
  },
  {
   "cell_type": "code",
   "execution_count": 63,
   "id": "f068d422",
   "metadata": {},
   "outputs": [
    {
     "data": {
      "text/plain": [
       "<AxesSubplot:>"
      ]
     },
     "execution_count": 63,
     "metadata": {},
     "output_type": "execute_result"
    },
    {
     "data": {
      "image/png": "[encoded data removed]",
      "text/plain": [
       "<Figure size 432x288 with 2 Axes>"
      ]
     },
     "metadata": {},
     "output_type": "display_data"
    }
   ],
   "source": [
    "# By looking at the remaining columns and the given data set, we saw there are three numeric variables to consider apart from our target variable \"Converted\"\n",
    "\n",
    "# I used Heat Map to get an insight on the correlation among the numeric variables.\n",
    "def Lead_heatmap(x):\n",
    "    return sns.heatmap(x.corr(), cmap='YlGnBu', annot=True) \n",
    "\n",
    "Lead_heatmap(leads_final)   "
   ]
  },
  {
   "cell_type": "markdown",
   "id": "4fbe0043",
   "metadata": {},
   "source": [
    "📌 By looking at the heatmap we say that \"Total Visits\" is the highly co-related variable."
   ]
  },
  {
   "cell_type": "markdown",
   "id": "37a87109",
   "metadata": {},
   "source": [
    "CHECKING FOR OUTLIERS AND Outlier Treatment."
   ]
  },
  {
   "cell_type": "code",
   "execution_count": 64,
   "id": "73edffa3",
   "metadata": {},
   "outputs": [
    {
     "data": {
      "text/html": [
       "<div>\n",
       "<style scoped>\n",
       "    .dataframe tbody tr th:only-of-type {\n",
       "        vertical-align: middle;\n",
       "    }\n",
       "\n",
       "    .dataframe tbody tr th {\n",
       "        vertical-align: top;\n",
       "    }\n",
       "\n",
       "    .dataframe thead th {\n",
       "        text-align: right;\n",
       "    }\n",
       "</style>\n",
       "<table border=\"1\" class=\"dataframe\">\n",
       "  <thead>\n",
       "    <tr style=\"text-align: right;\">\n",
       "      <th></th>\n",
       "      <th>TotalVisits</th>\n",
       "      <th>Total Time Spent on Website</th>\n",
       "      <th>Page Views Per Visit</th>\n",
       "    </tr>\n",
       "  </thead>\n",
       "  <tbody>\n",
       "    <tr>\n",
       "      <th>count</th>\n",
       "      <td>9074.000000</td>\n",
       "      <td>9074.000000</td>\n",
       "      <td>9074.000000</td>\n",
       "    </tr>\n",
       "    <tr>\n",
       "      <th>mean</th>\n",
       "      <td>3.456028</td>\n",
       "      <td>482.887481</td>\n",
       "      <td>2.370151</td>\n",
       "    </tr>\n",
       "    <tr>\n",
       "      <th>std</th>\n",
       "      <td>4.858802</td>\n",
       "      <td>545.256560</td>\n",
       "      <td>2.160871</td>\n",
       "    </tr>\n",
       "    <tr>\n",
       "      <th>min</th>\n",
       "      <td>0.000000</td>\n",
       "      <td>0.000000</td>\n",
       "      <td>0.000000</td>\n",
       "    </tr>\n",
       "    <tr>\n",
       "      <th>5%</th>\n",
       "      <td>0.000000</td>\n",
       "      <td>0.000000</td>\n",
       "      <td>0.000000</td>\n",
       "    </tr>\n",
       "    <tr>\n",
       "      <th>25%</th>\n",
       "      <td>1.000000</td>\n",
       "      <td>11.000000</td>\n",
       "      <td>1.000000</td>\n",
       "    </tr>\n",
       "    <tr>\n",
       "      <th>50%</th>\n",
       "      <td>3.000000</td>\n",
       "      <td>246.000000</td>\n",
       "      <td>2.000000</td>\n",
       "    </tr>\n",
       "    <tr>\n",
       "      <th>75%</th>\n",
       "      <td>5.000000</td>\n",
       "      <td>922.750000</td>\n",
       "      <td>3.200000</td>\n",
       "    </tr>\n",
       "    <tr>\n",
       "      <th>90%</th>\n",
       "      <td>7.000000</td>\n",
       "      <td>1373.000000</td>\n",
       "      <td>5.000000</td>\n",
       "    </tr>\n",
       "    <tr>\n",
       "      <th>99%</th>\n",
       "      <td>17.000000</td>\n",
       "      <td>1839.000000</td>\n",
       "      <td>9.000000</td>\n",
       "    </tr>\n",
       "    <tr>\n",
       "      <th>max</th>\n",
       "      <td>251.000000</td>\n",
       "      <td>2272.000000</td>\n",
       "      <td>55.000000</td>\n",
       "    </tr>\n",
       "  </tbody>\n",
       "</table>\n",
       "</div>"
      ],
      "text/plain": [
       "       TotalVisits  Total Time Spent on Website  Page Views Per Visit\n",
       "count  9074.000000                  9074.000000           9074.000000\n",
       "mean      3.456028                   482.887481              2.370151\n",
       "std       4.858802                   545.256560              2.160871\n",
       "min       0.000000                     0.000000              0.000000\n",
       "5%        0.000000                     0.000000              0.000000\n",
       "25%       1.000000                    11.000000              1.000000\n",
       "50%       3.000000                   246.000000              2.000000\n",
       "75%       5.000000                   922.750000              3.200000\n",
       "90%       7.000000                  1373.000000              5.000000\n",
       "99%      17.000000                  1839.000000              9.000000\n",
       "max     251.000000                  2272.000000             55.000000"
      ]
     },
     "execution_count": 64,
     "metadata": {},
     "output_type": "execute_result"
    }
   ],
   "source": [
    "outlier = leads_final[['TotalVisits','Total Time Spent on Website','Page Views Per Visit']]\n",
    "\n",
    "outlier.describe(percentiles=[0.05,0.25,0.5,0.75,0.9,0.99])"
   ]
  },
  {
   "cell_type": "markdown",
   "id": "41296a9d",
   "metadata": {},
   "source": [
    "📌 from the above it does not seems like we have any major/ possible outliers. We will look at each of the 3 variables individually next.m"
   ]
  },
  {
   "cell_type": "code",
   "execution_count": 65,
   "id": "879b2cfe",
   "metadata": {},
   "outputs": [
    {
     "data": {
      "image/png": "[encoded data removed]",
      "text/plain": [
       "<Figure size 432x288 with 1 Axes>"
      ]
     },
     "metadata": {},
     "output_type": "display_data"
    }
   ],
   "source": [
    "# For variable \"Total Visits\".\n",
    "\n",
    "plt.figure(figsize=(6,4))\n",
    "\n",
    "sns.boxplot(y=leads_final['TotalVisits'])\n",
    "plt.show()"
   ]
  },
  {
   "cell_type": "markdown",
   "id": "fd04a777",
   "metadata": {},
   "source": [
    "📌 It is evident that there are some outliers present in 'Total Visits'"
   ]
  },
  {
   "cell_type": "code",
   "execution_count": 66,
   "id": "719743b8",
   "metadata": {},
   "outputs": [
    {
     "data": {
      "text/plain": [
       "count    9074.000000\n",
       "mean        3.456028\n",
       "std         4.858802\n",
       "min         0.000000\n",
       "5%          0.000000\n",
       "25%         1.000000\n",
       "50%         3.000000\n",
       "75%         5.000000\n",
       "90%         7.000000\n",
       "95%        10.000000\n",
       "99%        17.000000\n",
       "max       251.000000\n",
       "Name: TotalVisits, dtype: float64"
      ]
     },
     "execution_count": 66,
     "metadata": {},
     "output_type": "execute_result"
    }
   ],
   "source": [
    "leads_final['TotalVisits'].describe(percentiles=[0.05,.25, .5, .75, .90, .95, .99])"
   ]
  },
  {
   "cell_type": "code",
   "execution_count": 67,
   "id": "8f1c439a",
   "metadata": {},
   "outputs": [
    {
     "data": {
      "image/png": "[encoded data removed]",
      "text/plain": [
       "<Figure size 432x288 with 1 Axes>"
      ]
     },
     "metadata": {},
     "output_type": "display_data"
    }
   ],
   "source": [
    "# Removing the Top 1% and bottom 1% values.\n",
    "\n",
    "Q3 = leads_final.TotalVisits.quantile(0.99)\n",
    "leads_final = leads_final[(leads_final.TotalVisits <= Q3)]\n",
    "\n",
    "Q1 = leads_final.TotalVisits.quantile(0.01)\n",
    "leads_final = leads_final[(leads_final.TotalVisits >= Q1)]\n",
    "\n",
    "sns.boxplot(y=leads_final['TotalVisits'])\n",
    "plt.show()"
   ]
  },
  {
   "cell_type": "code",
   "execution_count": 68,
   "id": "cfc80e97",
   "metadata": {},
   "outputs": [
    {
     "data": {
      "text/plain": [
       "(8991, 14)"
      ]
     },
     "execution_count": 68,
     "metadata": {},
     "output_type": "execute_result"
    }
   ],
   "source": [
    "leads_final.shape"
   ]
  },
  {
   "cell_type": "markdown",
   "id": "197ba976",
   "metadata": {},
   "source": [
    "Now it can be said that there are not such possible outliers present in \"TotalVisits\""
   ]
  },
  {
   "cell_type": "code",
   "execution_count": 69,
   "id": "18a94f97",
   "metadata": {},
   "outputs": [
    {
     "data": {
      "image/png": "[encoded data removed]",
      "text/plain": [
       "<Figure size 432x288 with 1 Axes>"
      ]
     },
     "metadata": {},
     "output_type": "display_data"
    }
   ],
   "source": [
    "# Checking \"Total Time Spent on Website\"\n",
    "\n",
    "sns.boxplot(y=leads['Total Time Spent on Website'])\n",
    "plt.show()\n"
   ]
  },
  {
   "cell_type": "markdown",
   "id": "fdb43f0c",
   "metadata": {},
   "source": [
    "As it is visible in above plot, there are no such possible outliers"
   ]
  },
  {
   "cell_type": "code",
   "execution_count": 70,
   "id": "935f4d3b",
   "metadata": {},
   "outputs": [
    {
     "data": {
      "image/png": "[encoded data removed]",
      "text/plain": [
       "<Figure size 432x288 with 1 Axes>"
      ]
     },
     "metadata": {},
     "output_type": "display_data"
    }
   ],
   "source": [
    "# Checking \"Page Views Per Visit\"\n",
    "\n",
    "plt.figure(figsize=(6,4))\n",
    "\n",
    "sns.boxplot(y=leads_final['Page Views Per Visit'])\n",
    "plt.show()\n"
   ]
  },
  {
   "cell_type": "code",
   "execution_count": 71,
   "id": "54293d81",
   "metadata": {},
   "outputs": [
    {
     "data": {
      "text/plain": [
       "count    8991.000000\n",
       "mean        2.344587\n",
       "std         2.061548\n",
       "min         0.000000\n",
       "5%          0.000000\n",
       "25%         1.000000\n",
       "50%         2.000000\n",
       "75%         3.000000\n",
       "90%         5.000000\n",
       "95%         6.000000\n",
       "99%         9.000000\n",
       "max        16.000000\n",
       "Name: Page Views Per Visit, dtype: float64"
      ]
     },
     "execution_count": 71,
     "metadata": {},
     "output_type": "execute_result"
    }
   ],
   "source": [
    "leads_final['Page Views Per Visit'].describe(percentiles=[0.05,.25, .5, .75, .90, .95, .99])"
   ]
  },
  {
   "cell_type": "code",
   "execution_count": 72,
   "id": "488dfb57",
   "metadata": {},
   "outputs": [
    {
     "data": {
      "image/png": "[encoded data removed]",
      "text/plain": [
       "<Figure size 432x288 with 1 Axes>"
      ]
     },
     "metadata": {},
     "output_type": "display_data"
    }
   ],
   "source": [
    "#Outlier Treatment: Remove top & bottom 1% \n",
    "\n",
    "Q3 = leads_final['Page Views Per Visit'].quantile(0.99)\n",
    "leads_final = leads_final[leads_final['Page Views Per Visit'] <= Q3]\n",
    "\n",
    "Q1 = leads_final['Page Views Per Visit'].quantile(0.01)\n",
    "leads_final = leads_final[leads_final['Page Views Per Visit'] >= Q1]\n",
    "\n",
    "sns.boxplot(y=leads_final['Page Views Per Visit'])\n",
    "plt.show()"
   ]
  },
  {
   "cell_type": "code",
   "execution_count": 73,
   "id": "7f66995c",
   "metadata": {},
   "outputs": [
    {
     "data": {
      "image/png": "[encoded data removed]",
      "text/plain": [
       "<Figure size 432x288 with 1 Axes>"
      ]
     },
     "metadata": {},
     "output_type": "display_data"
    }
   ],
   "source": [
    "# Conparing \"Total Visits\" vs \"Converted\"\n",
    "\n",
    "sns.boxplot(y = 'TotalVisits', x = 'Converted', data = leads_final)\n",
    "plt.show()"
   ]
  },
  {
   "cell_type": "markdown",
   "id": "ac019f13",
   "metadata": {},
   "source": [
    "1. Cannot say any concrete statement based on Total Visits.\n",
    "2. Median is very close for converted and Non-Converted customers."
   ]
  },
  {
   "cell_type": "code",
   "execution_count": 74,
   "id": "1f035e09",
   "metadata": {},
   "outputs": [
    {
     "data": {
      "image/png": "[encoded data removed]",
      "text/plain": [
       "<Figure size 432x288 with 1 Axes>"
      ]
     },
     "metadata": {},
     "output_type": "display_data"
    }
   ],
   "source": [
    "# Comparing \"Total Time Spent on Website\" vs \"Converted\" (target Variable)\n",
    "\n",
    "sns.boxplot(x='Converted', y='Total Time Spent on Website', data=leads_final)\n",
    "plt.show()"
   ]
  },
  {
   "cell_type": "markdown",
   "id": "752fa1ba",
   "metadata": {},
   "source": [
    "1. Customers who spend more time on website are more likely to convert."
   ]
  },
  {
   "cell_type": "code",
   "execution_count": 75,
   "id": "f7f5bc07",
   "metadata": {},
   "outputs": [
    {
     "data": {
      "image/png": "[encoded data removed]",
      "text/plain": [
       "<Figure size 432x288 with 1 Axes>"
      ]
     },
     "metadata": {},
     "output_type": "display_data"
    }
   ],
   "source": [
    "# \"Page Views Per Visit\" vs \"Converted\"\n",
    "\n",
    "sns.boxplot(x='Converted',y='Page Views Per Visit', data=leads_final)\n",
    "plt.show()\n"
   ]
  },
  {
   "cell_type": "markdown",
   "id": "1a8248c3",
   "metadata": {},
   "source": [
    "1. Nothing much can be infered based on this plot.\n",
    "2. Median is exactly same for both types of conversions."
   ]
  },
  {
   "cell_type": "code",
   "execution_count": 76,
   "id": "731f7c27",
   "metadata": {},
   "outputs": [
    {
     "data": {
      "text/plain": [
       "Lead Origin                               0.0\n",
       "Lead Source                               0.0\n",
       "Do Not Email                              0.0\n",
       "Converted                                 0.0\n",
       "TotalVisits                               0.0\n",
       "Total Time Spent on Website               0.0\n",
       "Page Views Per Visit                      0.0\n",
       "Last Activity                             0.0\n",
       "Specialization                            0.0\n",
       "What is your current occupation           0.0\n",
       "Tags                                      0.0\n",
       "City                                      0.0\n",
       "A free copy of Mastering The Interview    0.0\n",
       "Last Notable Activity                     0.0\n",
       "dtype: float64"
      ]
     },
     "execution_count": 76,
     "metadata": {},
     "output_type": "execute_result"
    }
   ],
   "source": [
    "# Once again checking for percentage NULL values to rule out any mistakes.\n",
    "\n",
    "perc_null(leads_final)"
   ]
  },
  {
   "cell_type": "code",
   "execution_count": 77,
   "id": "0e12bec0",
   "metadata": {},
   "outputs": [
    {
     "data": {
      "text/plain": [
       "<AxesSubplot:>"
      ]
     },
     "execution_count": 77,
     "metadata": {},
     "output_type": "execute_result"
    },
    {
     "data": {
      "image/png": "[encoded data removed]",
      "text/plain": [
       "<Figure size 432x288 with 2 Axes>"
      ]
     },
     "metadata": {},
     "output_type": "display_data"
    }
   ],
   "source": [
    "# Checking the Correaltion again.\n",
    "\n",
    "Lead_heatmap(leads_final)"
   ]
  },
  {
   "cell_type": "markdown",
   "id": "aa648e38",
   "metadata": {},
   "source": [
    "*****************************************************************************************"
   ]
  },
  {
   "cell_type": "markdown",
   "id": "7604f364",
   "metadata": {},
   "source": [
    "## 3. DUMMY VALUES CREATION AND SUBSTITUTION."
   ]
  },
  {
   "cell_type": "code",
   "execution_count": 78,
   "id": "cae7fc6d",
   "metadata": {},
   "outputs": [
    {
     "data": {
      "text/plain": [
       "Index(['Lead Origin', 'Lead Source', 'Do Not Email', 'Last Activity',\n",
       "       'Specialization', 'What is your current occupation', 'Tags', 'City',\n",
       "       'A free copy of Mastering The Interview', 'Last Notable Activity'],\n",
       "      dtype='object')"
      ]
     },
     "execution_count": 78,
     "metadata": {},
     "output_type": "execute_result"
    }
   ],
   "source": [
    "cat_cols= leads_final.select_dtypes(include=['object']).columns\n",
    "\n",
    "cat_cols"
   ]
  },
  {
   "cell_type": "code",
   "execution_count": 79,
   "id": "286d9472",
   "metadata": {},
   "outputs": [
    {
     "data": {
      "text/plain": [
       "Index(['Lead Origin', 'Lead Source', 'Do Not Email', 'Last Activity',\n",
       "       'Specialization', 'What is your current occupation', 'Tags', 'City',\n",
       "       'A free copy of Mastering The Interview', 'Last Notable Activity'],\n",
       "      dtype='object')"
      ]
     },
     "execution_count": 79,
     "metadata": {},
     "output_type": "execute_result"
    }
   ],
   "source": [
    "leads_final.loc[:, leads_final.dtypes == 'object'].columns"
   ]
  },
  {
   "cell_type": "code",
   "execution_count": 80,
   "id": "90d52ac9",
   "metadata": {},
   "outputs": [
    {
     "data": {
      "text/html": [
       "<div>\n",
       "<style scoped>\n",
       "    .dataframe tbody tr th:only-of-type {\n",
       "        vertical-align: middle;\n",
       "    }\n",
       "\n",
       "    .dataframe tbody tr th {\n",
       "        vertical-align: top;\n",
       "    }\n",
       "\n",
       "    .dataframe thead th {\n",
       "        text-align: right;\n",
       "    }\n",
       "</style>\n",
       "<table border=\"1\" class=\"dataframe\">\n",
       "  <thead>\n",
       "    <tr style=\"text-align: right;\">\n",
       "      <th></th>\n",
       "      <th>Lead Origin</th>\n",
       "      <th>Lead Source</th>\n",
       "      <th>Do Not Email</th>\n",
       "      <th>Converted</th>\n",
       "      <th>TotalVisits</th>\n",
       "      <th>Total Time Spent on Website</th>\n",
       "      <th>Page Views Per Visit</th>\n",
       "      <th>Last Activity</th>\n",
       "      <th>Specialization</th>\n",
       "      <th>What is your current occupation</th>\n",
       "      <th>...</th>\n",
       "      <th>Tags_Will revert after reading the email</th>\n",
       "      <th>City_Other Cities</th>\n",
       "      <th>City_Other Cities of Maharashtra</th>\n",
       "      <th>City_Other Metro Cities</th>\n",
       "      <th>City_Thane &amp; Outskirts</th>\n",
       "      <th>City_Tier II Cities</th>\n",
       "      <th>A free copy of Mastering The Interview_Yes</th>\n",
       "      <th>Last Notable Activity_Modified</th>\n",
       "      <th>Last Notable Activity_Other_Activity</th>\n",
       "      <th>Last Notable Activity_SMS Sent</th>\n",
       "    </tr>\n",
       "  </thead>\n",
       "  <tbody>\n",
       "    <tr>\n",
       "      <th>0</th>\n",
       "      <td>API</td>\n",
       "      <td>Olark Chat</td>\n",
       "      <td>No</td>\n",
       "      <td>0</td>\n",
       "      <td>0.0</td>\n",
       "      <td>0</td>\n",
       "      <td>0.00</td>\n",
       "      <td>Page Visited on Website</td>\n",
       "      <td>Not Mentioned</td>\n",
       "      <td>Unemployed</td>\n",
       "      <td>...</td>\n",
       "      <td>0</td>\n",
       "      <td>0</td>\n",
       "      <td>0</td>\n",
       "      <td>0</td>\n",
       "      <td>0</td>\n",
       "      <td>0</td>\n",
       "      <td>0</td>\n",
       "      <td>1</td>\n",
       "      <td>0</td>\n",
       "      <td>0</td>\n",
       "    </tr>\n",
       "    <tr>\n",
       "      <th>1</th>\n",
       "      <td>API</td>\n",
       "      <td>Organic Search</td>\n",
       "      <td>No</td>\n",
       "      <td>0</td>\n",
       "      <td>5.0</td>\n",
       "      <td>674</td>\n",
       "      <td>2.50</td>\n",
       "      <td>Email Opened</td>\n",
       "      <td>Not Mentioned</td>\n",
       "      <td>Unemployed</td>\n",
       "      <td>...</td>\n",
       "      <td>0</td>\n",
       "      <td>0</td>\n",
       "      <td>0</td>\n",
       "      <td>0</td>\n",
       "      <td>0</td>\n",
       "      <td>0</td>\n",
       "      <td>0</td>\n",
       "      <td>0</td>\n",
       "      <td>0</td>\n",
       "      <td>0</td>\n",
       "    </tr>\n",
       "    <tr>\n",
       "      <th>2</th>\n",
       "      <td>Landing Page Submission</td>\n",
       "      <td>Direct Traffic</td>\n",
       "      <td>No</td>\n",
       "      <td>1</td>\n",
       "      <td>2.0</td>\n",
       "      <td>1532</td>\n",
       "      <td>2.00</td>\n",
       "      <td>Email Opened</td>\n",
       "      <td>Business Administration</td>\n",
       "      <td>Student</td>\n",
       "      <td>...</td>\n",
       "      <td>1</td>\n",
       "      <td>0</td>\n",
       "      <td>0</td>\n",
       "      <td>0</td>\n",
       "      <td>0</td>\n",
       "      <td>0</td>\n",
       "      <td>1</td>\n",
       "      <td>0</td>\n",
       "      <td>0</td>\n",
       "      <td>0</td>\n",
       "    </tr>\n",
       "    <tr>\n",
       "      <th>3</th>\n",
       "      <td>Landing Page Submission</td>\n",
       "      <td>Direct Traffic</td>\n",
       "      <td>No</td>\n",
       "      <td>0</td>\n",
       "      <td>1.0</td>\n",
       "      <td>305</td>\n",
       "      <td>1.00</td>\n",
       "      <td>Other_Activity</td>\n",
       "      <td>Media and Advertising</td>\n",
       "      <td>Unemployed</td>\n",
       "      <td>...</td>\n",
       "      <td>0</td>\n",
       "      <td>0</td>\n",
       "      <td>0</td>\n",
       "      <td>0</td>\n",
       "      <td>0</td>\n",
       "      <td>0</td>\n",
       "      <td>0</td>\n",
       "      <td>1</td>\n",
       "      <td>0</td>\n",
       "      <td>0</td>\n",
       "    </tr>\n",
       "    <tr>\n",
       "      <th>4</th>\n",
       "      <td>Landing Page Submission</td>\n",
       "      <td>Google</td>\n",
       "      <td>No</td>\n",
       "      <td>1</td>\n",
       "      <td>2.0</td>\n",
       "      <td>1428</td>\n",
       "      <td>1.00</td>\n",
       "      <td>Converted to Lead</td>\n",
       "      <td>Not Mentioned</td>\n",
       "      <td>Unemployed</td>\n",
       "      <td>...</td>\n",
       "      <td>1</td>\n",
       "      <td>0</td>\n",
       "      <td>0</td>\n",
       "      <td>0</td>\n",
       "      <td>0</td>\n",
       "      <td>0</td>\n",
       "      <td>0</td>\n",
       "      <td>1</td>\n",
       "      <td>0</td>\n",
       "      <td>0</td>\n",
       "    </tr>\n",
       "    <tr>\n",
       "      <th>...</th>\n",
       "      <td>...</td>\n",
       "      <td>...</td>\n",
       "      <td>...</td>\n",
       "      <td>...</td>\n",
       "      <td>...</td>\n",
       "      <td>...</td>\n",
       "      <td>...</td>\n",
       "      <td>...</td>\n",
       "      <td>...</td>\n",
       "      <td>...</td>\n",
       "      <td>...</td>\n",
       "      <td>...</td>\n",
       "      <td>...</td>\n",
       "      <td>...</td>\n",
       "      <td>...</td>\n",
       "      <td>...</td>\n",
       "      <td>...</td>\n",
       "      <td>...</td>\n",
       "      <td>...</td>\n",
       "      <td>...</td>\n",
       "      <td>...</td>\n",
       "    </tr>\n",
       "    <tr>\n",
       "      <th>9235</th>\n",
       "      <td>Landing Page Submission</td>\n",
       "      <td>Direct Traffic</td>\n",
       "      <td>Yes</td>\n",
       "      <td>1</td>\n",
       "      <td>8.0</td>\n",
       "      <td>1845</td>\n",
       "      <td>2.67</td>\n",
       "      <td>Other_Activity</td>\n",
       "      <td>Management</td>\n",
       "      <td>Unemployed</td>\n",
       "      <td>...</td>\n",
       "      <td>1</td>\n",
       "      <td>0</td>\n",
       "      <td>0</td>\n",
       "      <td>0</td>\n",
       "      <td>0</td>\n",
       "      <td>0</td>\n",
       "      <td>0</td>\n",
       "      <td>0</td>\n",
       "      <td>1</td>\n",
       "      <td>0</td>\n",
       "    </tr>\n",
       "    <tr>\n",
       "      <th>9236</th>\n",
       "      <td>Landing Page Submission</td>\n",
       "      <td>Direct Traffic</td>\n",
       "      <td>No</td>\n",
       "      <td>0</td>\n",
       "      <td>2.0</td>\n",
       "      <td>238</td>\n",
       "      <td>2.00</td>\n",
       "      <td>SMS Sent</td>\n",
       "      <td>Media and Advertising</td>\n",
       "      <td>Unemployed</td>\n",
       "      <td>...</td>\n",
       "      <td>0</td>\n",
       "      <td>0</td>\n",
       "      <td>0</td>\n",
       "      <td>0</td>\n",
       "      <td>0</td>\n",
       "      <td>0</td>\n",
       "      <td>1</td>\n",
       "      <td>0</td>\n",
       "      <td>0</td>\n",
       "      <td>1</td>\n",
       "    </tr>\n",
       "    <tr>\n",
       "      <th>9237</th>\n",
       "      <td>Landing Page Submission</td>\n",
       "      <td>Direct Traffic</td>\n",
       "      <td>Yes</td>\n",
       "      <td>0</td>\n",
       "      <td>2.0</td>\n",
       "      <td>199</td>\n",
       "      <td>2.00</td>\n",
       "      <td>SMS Sent</td>\n",
       "      <td>Business Administration</td>\n",
       "      <td>Unemployed</td>\n",
       "      <td>...</td>\n",
       "      <td>0</td>\n",
       "      <td>0</td>\n",
       "      <td>0</td>\n",
       "      <td>0</td>\n",
       "      <td>0</td>\n",
       "      <td>0</td>\n",
       "      <td>1</td>\n",
       "      <td>0</td>\n",
       "      <td>0</td>\n",
       "      <td>1</td>\n",
       "    </tr>\n",
       "    <tr>\n",
       "      <th>9238</th>\n",
       "      <td>Landing Page Submission</td>\n",
       "      <td>Google</td>\n",
       "      <td>No</td>\n",
       "      <td>1</td>\n",
       "      <td>3.0</td>\n",
       "      <td>499</td>\n",
       "      <td>3.00</td>\n",
       "      <td>SMS Sent</td>\n",
       "      <td>Management</td>\n",
       "      <td>Unemployed</td>\n",
       "      <td>...</td>\n",
       "      <td>0</td>\n",
       "      <td>0</td>\n",
       "      <td>0</td>\n",
       "      <td>1</td>\n",
       "      <td>0</td>\n",
       "      <td>0</td>\n",
       "      <td>0</td>\n",
       "      <td>0</td>\n",
       "      <td>0</td>\n",
       "      <td>1</td>\n",
       "    </tr>\n",
       "    <tr>\n",
       "      <th>9239</th>\n",
       "      <td>Landing Page Submission</td>\n",
       "      <td>Direct Traffic</td>\n",
       "      <td>No</td>\n",
       "      <td>1</td>\n",
       "      <td>6.0</td>\n",
       "      <td>1279</td>\n",
       "      <td>3.00</td>\n",
       "      <td>SMS Sent</td>\n",
       "      <td>Management</td>\n",
       "      <td>Unemployed</td>\n",
       "      <td>...</td>\n",
       "      <td>1</td>\n",
       "      <td>1</td>\n",
       "      <td>0</td>\n",
       "      <td>0</td>\n",
       "      <td>0</td>\n",
       "      <td>0</td>\n",
       "      <td>1</td>\n",
       "      <td>1</td>\n",
       "      <td>0</td>\n",
       "      <td>0</td>\n",
       "    </tr>\n",
       "  </tbody>\n",
       "</table>\n",
       "<p>8924 rows × 61 columns</p>\n",
       "</div>"
      ],
      "text/plain": [
       "                  Lead Origin     Lead Source Do Not Email  Converted  \\\n",
       "0                         API      Olark Chat           No          0   \n",
       "1                         API  Organic Search           No          0   \n",
       "2     Landing Page Submission  Direct Traffic           No          1   \n",
       "3     Landing Page Submission  Direct Traffic           No          0   \n",
       "4     Landing Page Submission          Google           No          1   \n",
       "...                       ...             ...          ...        ...   \n",
       "9235  Landing Page Submission  Direct Traffic          Yes          1   \n",
       "9236  Landing Page Submission  Direct Traffic           No          0   \n",
       "9237  Landing Page Submission  Direct Traffic          Yes          0   \n",
       "9238  Landing Page Submission          Google           No          1   \n",
       "9239  Landing Page Submission  Direct Traffic           No          1   \n",
       "\n",
       "      TotalVisits  Total Time Spent on Website  Page Views Per Visit  \\\n",
       "0             0.0                            0                  0.00   \n",
       "1             5.0                          674                  2.50   \n",
       "2             2.0                         1532                  2.00   \n",
       "3             1.0                          305                  1.00   \n",
       "4             2.0                         1428                  1.00   \n",
       "...           ...                          ...                   ...   \n",
       "9235          8.0                         1845                  2.67   \n",
       "9236          2.0                          238                  2.00   \n",
       "9237          2.0                          199                  2.00   \n",
       "9238          3.0                          499                  3.00   \n",
       "9239          6.0                         1279                  3.00   \n",
       "\n",
       "                Last Activity           Specialization  \\\n",
       "0     Page Visited on Website            Not Mentioned   \n",
       "1                Email Opened            Not Mentioned   \n",
       "2                Email Opened  Business Administration   \n",
       "3              Other_Activity    Media and Advertising   \n",
       "4           Converted to Lead            Not Mentioned   \n",
       "...                       ...                      ...   \n",
       "9235           Other_Activity               Management   \n",
       "9236                 SMS Sent    Media and Advertising   \n",
       "9237                 SMS Sent  Business Administration   \n",
       "9238                 SMS Sent               Management   \n",
       "9239                 SMS Sent               Management   \n",
       "\n",
       "     What is your current occupation  ...  \\\n",
       "0                         Unemployed  ...   \n",
       "1                         Unemployed  ...   \n",
       "2                            Student  ...   \n",
       "3                         Unemployed  ...   \n",
       "4                         Unemployed  ...   \n",
       "...                              ...  ...   \n",
       "9235                      Unemployed  ...   \n",
       "9236                      Unemployed  ...   \n",
       "9237                      Unemployed  ...   \n",
       "9238                      Unemployed  ...   \n",
       "9239                      Unemployed  ...   \n",
       "\n",
       "     Tags_Will revert after reading the email City_Other Cities  \\\n",
       "0                                           0                 0   \n",
       "1                                           0                 0   \n",
       "2                                           1                 0   \n",
       "3                                           0                 0   \n",
       "4                                           1                 0   \n",
       "...                                       ...               ...   \n",
       "9235                                        1                 0   \n",
       "9236                                        0                 0   \n",
       "9237                                        0                 0   \n",
       "9238                                        0                 0   \n",
       "9239                                        1                 1   \n",
       "\n",
       "     City_Other Cities of Maharashtra City_Other Metro Cities  \\\n",
       "0                                   0                       0   \n",
       "1                                   0                       0   \n",
       "2                                   0                       0   \n",
       "3                                   0                       0   \n",
       "4                                   0                       0   \n",
       "...                               ...                     ...   \n",
       "9235                                0                       0   \n",
       "9236                                0                       0   \n",
       "9237                                0                       0   \n",
       "9238                                0                       1   \n",
       "9239                                0                       0   \n",
       "\n",
       "      City_Thane & Outskirts  City_Tier II Cities  \\\n",
       "0                          0                    0   \n",
       "1                          0                    0   \n",
       "2                          0                    0   \n",
       "3                          0                    0   \n",
       "4                          0                    0   \n",
       "...                      ...                  ...   \n",
       "9235                       0                    0   \n",
       "9236                       0                    0   \n",
       "9237                       0                    0   \n",
       "9238                       0                    0   \n",
       "9239                       0                    0   \n",
       "\n",
       "      A free copy of Mastering The Interview_Yes  \\\n",
       "0                                              0   \n",
       "1                                              0   \n",
       "2                                              1   \n",
       "3                                              0   \n",
       "4                                              0   \n",
       "...                                          ...   \n",
       "9235                                           0   \n",
       "9236                                           1   \n",
       "9237                                           1   \n",
       "9238                                           0   \n",
       "9239                                           1   \n",
       "\n",
       "      Last Notable Activity_Modified  Last Notable Activity_Other_Activity  \\\n",
       "0                                  1                                     0   \n",
       "1                                  0                                     0   \n",
       "2                                  0                                     0   \n",
       "3                                  1                                     0   \n",
       "4                                  1                                     0   \n",
       "...                              ...                                   ...   \n",
       "9235                               0                                     1   \n",
       "9236                               0                                     0   \n",
       "9237                               0                                     0   \n",
       "9238                               0                                     0   \n",
       "9239                               1                                     0   \n",
       "\n",
       "      Last Notable Activity_SMS Sent  \n",
       "0                                  0  \n",
       "1                                  0  \n",
       "2                                  0  \n",
       "3                                  0  \n",
       "4                                  0  \n",
       "...                              ...  \n",
       "9235                               0  \n",
       "9236                               1  \n",
       "9237                               1  \n",
       "9238                               1  \n",
       "9239                               0  \n",
       "\n",
       "[8924 rows x 61 columns]"
      ]
     },
     "execution_count": 80,
     "metadata": {},
     "output_type": "execute_result"
    }
   ],
   "source": [
    "# Create dummy variables using the 'get_dummies'\n",
    "dummy = pd.get_dummies(leads_final[['Lead Origin', 'Lead Source', 'Do Not Email', 'Last Activity',\n",
    "       'Specialization', 'What is your current occupation', 'Tags', 'City',\n",
    "       'A free copy of Mastering The Interview', 'Last Notable Activity']], drop_first=True)\n",
    "# Add the results to the master dataframe\n",
    "leads_final_dummy = pd.concat([leads_final, dummy], axis=1)\n",
    "leads_final_dummy"
   ]
  },
  {
   "cell_type": "code",
   "execution_count": 81,
   "id": "f7bbf37a",
   "metadata": {},
   "outputs": [
    {
     "data": {
      "text/plain": [
       "(8924, 14)"
      ]
     },
     "execution_count": 81,
     "metadata": {},
     "output_type": "execute_result"
    }
   ],
   "source": [
    "leads_final.shape"
   ]
  },
  {
   "cell_type": "code",
   "execution_count": 82,
   "id": "4cade7a6",
   "metadata": {},
   "outputs": [
    {
     "data": {
      "text/html": [
       "<div>\n",
       "<style scoped>\n",
       "    .dataframe tbody tr th:only-of-type {\n",
       "        vertical-align: middle;\n",
       "    }\n",
       "\n",
       "    .dataframe tbody tr th {\n",
       "        vertical-align: top;\n",
       "    }\n",
       "\n",
       "    .dataframe thead th {\n",
       "        text-align: right;\n",
       "    }\n",
       "</style>\n",
       "<table border=\"1\" class=\"dataframe\">\n",
       "  <thead>\n",
       "    <tr style=\"text-align: right;\">\n",
       "      <th></th>\n",
       "      <th>Lead Origin</th>\n",
       "      <th>Lead Source</th>\n",
       "      <th>Do Not Email</th>\n",
       "      <th>Converted</th>\n",
       "      <th>TotalVisits</th>\n",
       "      <th>Total Time Spent on Website</th>\n",
       "      <th>Page Views Per Visit</th>\n",
       "      <th>Last Activity</th>\n",
       "      <th>Specialization</th>\n",
       "      <th>What is your current occupation</th>\n",
       "      <th>...</th>\n",
       "      <th>Tags_Will revert after reading the email</th>\n",
       "      <th>City_Other Cities</th>\n",
       "      <th>City_Other Cities of Maharashtra</th>\n",
       "      <th>City_Other Metro Cities</th>\n",
       "      <th>City_Thane &amp; Outskirts</th>\n",
       "      <th>City_Tier II Cities</th>\n",
       "      <th>A free copy of Mastering The Interview_Yes</th>\n",
       "      <th>Last Notable Activity_Modified</th>\n",
       "      <th>Last Notable Activity_Other_Activity</th>\n",
       "      <th>Last Notable Activity_SMS Sent</th>\n",
       "    </tr>\n",
       "  </thead>\n",
       "  <tbody>\n",
       "    <tr>\n",
       "      <th>0</th>\n",
       "      <td>API</td>\n",
       "      <td>Olark Chat</td>\n",
       "      <td>No</td>\n",
       "      <td>0</td>\n",
       "      <td>0.0</td>\n",
       "      <td>0</td>\n",
       "      <td>0.0</td>\n",
       "      <td>Page Visited on Website</td>\n",
       "      <td>Not Mentioned</td>\n",
       "      <td>Unemployed</td>\n",
       "      <td>...</td>\n",
       "      <td>0</td>\n",
       "      <td>0</td>\n",
       "      <td>0</td>\n",
       "      <td>0</td>\n",
       "      <td>0</td>\n",
       "      <td>0</td>\n",
       "      <td>0</td>\n",
       "      <td>1</td>\n",
       "      <td>0</td>\n",
       "      <td>0</td>\n",
       "    </tr>\n",
       "    <tr>\n",
       "      <th>1</th>\n",
       "      <td>API</td>\n",
       "      <td>Organic Search</td>\n",
       "      <td>No</td>\n",
       "      <td>0</td>\n",
       "      <td>5.0</td>\n",
       "      <td>674</td>\n",
       "      <td>2.5</td>\n",
       "      <td>Email Opened</td>\n",
       "      <td>Not Mentioned</td>\n",
       "      <td>Unemployed</td>\n",
       "      <td>...</td>\n",
       "      <td>0</td>\n",
       "      <td>0</td>\n",
       "      <td>0</td>\n",
       "      <td>0</td>\n",
       "      <td>0</td>\n",
       "      <td>0</td>\n",
       "      <td>0</td>\n",
       "      <td>0</td>\n",
       "      <td>0</td>\n",
       "      <td>0</td>\n",
       "    </tr>\n",
       "    <tr>\n",
       "      <th>2</th>\n",
       "      <td>Landing Page Submission</td>\n",
       "      <td>Direct Traffic</td>\n",
       "      <td>No</td>\n",
       "      <td>1</td>\n",
       "      <td>2.0</td>\n",
       "      <td>1532</td>\n",
       "      <td>2.0</td>\n",
       "      <td>Email Opened</td>\n",
       "      <td>Business Administration</td>\n",
       "      <td>Student</td>\n",
       "      <td>...</td>\n",
       "      <td>1</td>\n",
       "      <td>0</td>\n",
       "      <td>0</td>\n",
       "      <td>0</td>\n",
       "      <td>0</td>\n",
       "      <td>0</td>\n",
       "      <td>1</td>\n",
       "      <td>0</td>\n",
       "      <td>0</td>\n",
       "      <td>0</td>\n",
       "    </tr>\n",
       "    <tr>\n",
       "      <th>3</th>\n",
       "      <td>Landing Page Submission</td>\n",
       "      <td>Direct Traffic</td>\n",
       "      <td>No</td>\n",
       "      <td>0</td>\n",
       "      <td>1.0</td>\n",
       "      <td>305</td>\n",
       "      <td>1.0</td>\n",
       "      <td>Other_Activity</td>\n",
       "      <td>Media and Advertising</td>\n",
       "      <td>Unemployed</td>\n",
       "      <td>...</td>\n",
       "      <td>0</td>\n",
       "      <td>0</td>\n",
       "      <td>0</td>\n",
       "      <td>0</td>\n",
       "      <td>0</td>\n",
       "      <td>0</td>\n",
       "      <td>0</td>\n",
       "      <td>1</td>\n",
       "      <td>0</td>\n",
       "      <td>0</td>\n",
       "    </tr>\n",
       "    <tr>\n",
       "      <th>4</th>\n",
       "      <td>Landing Page Submission</td>\n",
       "      <td>Google</td>\n",
       "      <td>No</td>\n",
       "      <td>1</td>\n",
       "      <td>2.0</td>\n",
       "      <td>1428</td>\n",
       "      <td>1.0</td>\n",
       "      <td>Converted to Lead</td>\n",
       "      <td>Not Mentioned</td>\n",
       "      <td>Unemployed</td>\n",
       "      <td>...</td>\n",
       "      <td>1</td>\n",
       "      <td>0</td>\n",
       "      <td>0</td>\n",
       "      <td>0</td>\n",
       "      <td>0</td>\n",
       "      <td>0</td>\n",
       "      <td>0</td>\n",
       "      <td>1</td>\n",
       "      <td>0</td>\n",
       "      <td>0</td>\n",
       "    </tr>\n",
       "  </tbody>\n",
       "</table>\n",
       "<p>5 rows × 61 columns</p>\n",
       "</div>"
      ],
      "text/plain": [
       "               Lead Origin     Lead Source Do Not Email  Converted  \\\n",
       "0                      API      Olark Chat           No          0   \n",
       "1                      API  Organic Search           No          0   \n",
       "2  Landing Page Submission  Direct Traffic           No          1   \n",
       "3  Landing Page Submission  Direct Traffic           No          0   \n",
       "4  Landing Page Submission          Google           No          1   \n",
       "\n",
       "   TotalVisits  Total Time Spent on Website  Page Views Per Visit  \\\n",
       "0          0.0                            0                   0.0   \n",
       "1          5.0                          674                   2.5   \n",
       "2          2.0                         1532                   2.0   \n",
       "3          1.0                          305                   1.0   \n",
       "4          2.0                         1428                   1.0   \n",
       "\n",
       "             Last Activity           Specialization  \\\n",
       "0  Page Visited on Website            Not Mentioned   \n",
       "1             Email Opened            Not Mentioned   \n",
       "2             Email Opened  Business Administration   \n",
       "3           Other_Activity    Media and Advertising   \n",
       "4        Converted to Lead            Not Mentioned   \n",
       "\n",
       "  What is your current occupation  ...  \\\n",
       "0                      Unemployed  ...   \n",
       "1                      Unemployed  ...   \n",
       "2                         Student  ...   \n",
       "3                      Unemployed  ...   \n",
       "4                      Unemployed  ...   \n",
       "\n",
       "  Tags_Will revert after reading the email City_Other Cities  \\\n",
       "0                                        0                 0   \n",
       "1                                        0                 0   \n",
       "2                                        1                 0   \n",
       "3                                        0                 0   \n",
       "4                                        1                 0   \n",
       "\n",
       "  City_Other Cities of Maharashtra City_Other Metro Cities  \\\n",
       "0                                0                       0   \n",
       "1                                0                       0   \n",
       "2                                0                       0   \n",
       "3                                0                       0   \n",
       "4                                0                       0   \n",
       "\n",
       "   City_Thane & Outskirts  City_Tier II Cities  \\\n",
       "0                       0                    0   \n",
       "1                       0                    0   \n",
       "2                       0                    0   \n",
       "3                       0                    0   \n",
       "4                       0                    0   \n",
       "\n",
       "   A free copy of Mastering The Interview_Yes  Last Notable Activity_Modified  \\\n",
       "0                                           0                               1   \n",
       "1                                           0                               0   \n",
       "2                                           1                               0   \n",
       "3                                           0                               1   \n",
       "4                                           0                               1   \n",
       "\n",
       "   Last Notable Activity_Other_Activity  Last Notable Activity_SMS Sent  \n",
       "0                                     0                               0  \n",
       "1                                     0                               0  \n",
       "2                                     0                               0  \n",
       "3                                     0                               0  \n",
       "4                                     0                               0  \n",
       "\n",
       "[5 rows x 61 columns]"
      ]
     },
     "execution_count": 82,
     "metadata": {},
     "output_type": "execute_result"
    }
   ],
   "source": [
    "leads_final_dummy.head()"
   ]
  },
  {
   "cell_type": "code",
   "execution_count": 83,
   "id": "a07ff8f0",
   "metadata": {},
   "outputs": [],
   "source": [
    "# leads_final_dummy=leads_final_dummy.drop(['Lead Origin', 'Lead Source', 'Do Not Email', 'Last Activity',\n",
    "# 'Specialization', 'What is your current occupation', 'Tags', 'City',\n",
    "# 'A free copy of Mastering The Interview', 'Last Notable Activity'])"
   ]
  },
  {
   "cell_type": "code",
   "execution_count": null,
   "id": "47e432b4",
   "metadata": {},
   "outputs": [],
   "source": []
  },
  {
   "cell_type": "code",
   "execution_count": null,
   "id": "81f055d4",
   "metadata": {},
   "outputs": [],
   "source": []
  },
  {
   "cell_type": "code",
   "execution_count": null,
   "id": "beeafd57",
   "metadata": {},
   "outputs": [],
   "source": []
  },
  {
   "cell_type": "code",
   "execution_count": null,
   "id": "59699c00",
   "metadata": {},
   "outputs": [],
   "source": []
  },
  {
   "cell_type": "code",
   "execution_count": null,
   "id": "5ad1373d",
   "metadata": {},
   "outputs": [],
   "source": []
  },
  {
   "cell_type": "code",
   "execution_count": null,
   "id": "a47eb92f",
   "metadata": {},
   "outputs": [],
   "source": []
  },
  {
   "cell_type": "code",
   "execution_count": null,
   "id": "b361b387",
   "metadata": {},
   "outputs": [],
   "source": []
  },
  {
   "cell_type": "code",
   "execution_count": null,
   "id": "21136f0e",
   "metadata": {},
   "outputs": [],
   "source": []
  },
  {
   "cell_type": "code",
   "execution_count": null,
   "id": "0375d52b",
   "metadata": {},
   "outputs": [],
   "source": []
  },
  {
   "cell_type": "code",
   "execution_count": null,
   "id": "33b3df5f",
   "metadata": {},
   "outputs": [],
   "source": []
  },
  {
   "cell_type": "code",
   "execution_count": null,
   "id": "2b97cf0f",
   "metadata": {},
   "outputs": [],
   "source": []
  },
  {
   "cell_type": "code",
   "execution_count": null,
   "id": "99f0968e",
   "metadata": {},
   "outputs": [],
   "source": []
  }
 ],
 "metadata": {
  "kernelspec": {
   "display_name": "Python 3 (ipykernel)",
   "language": "python",
   "name": "python3"
  },
  "language_info": {
   "codemirror_mode": {
    "name": "ipython",
    "version": 3
   },
   "file_extension": ".py",
   "mimetype": "text/x-python",
   "name": "python",
   "nbconvert_exporter": "python",
   "pygments_lexer": "ipython3",
   "version": "3.9.7"
  },
  "vscode": {
   "interpreter": {
    "hash": "89d0e7cd794ce43ede8c138d9816867be0b3de74547e6f7d2be97d7b042b3c56"
   }
  }
 },
 "nbformat": 4,
 "nbformat_minor": 5
}
